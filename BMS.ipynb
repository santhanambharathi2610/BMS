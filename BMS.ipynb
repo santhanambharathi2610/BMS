{
  "nbformat": 4,
  "nbformat_minor": 0,
  "metadata": {
    "colab": {
      "provenance": [],
      "include_colab_link": true
    },
    "kernelspec": {
      "name": "python3",
      "display_name": "Python 3"
    },
    "language_info": {
      "name": "python"
    }
  },
  "cells": [
    {
      "cell_type": "markdown",
      "metadata": {
        "id": "view-in-github",
        "colab_type": "text"
      },
      "source": [
        "<a href=\"https://colab.research.google.com/github/santhanambharathi2610/BMS/blob/main/BMS.ipynb\" target=\"_parent\"><img src=\"https://colab.research.google.com/assets/colab-badge.svg\" alt=\"Open In Colab\"/></a>"
      ]
    },
    {
      "cell_type": "code",
      "source": [
        "import datetime\n",
        "import numpy as np\n",
        "import pandas as pd\n",
        "from scipy.io import loadmat\n",
        "from sklearn.preprocessing import MinMaxScaler\n",
        "from sklearn.metrics import mean_squared_error\n",
        "from sklearn import metrics\n",
        "import matplotlib.pyplot as plt\n",
        "import seaborn as sns"
      ],
      "metadata": {
        "id": "C8e2FtqSV5L7"
      },
      "execution_count": null,
      "outputs": []
    },
    {
      "cell_type": "code",
      "source": [
        "def load_data(battery):\n",
        "  mat = loadmat('B0005.mat')\n",
        "  print('Total data in dataset: ', len(mat[battery][0, 0]['cycle'][0]))\n",
        "  counter = 0\n",
        "  dataset = []\n",
        "  capacity_data = []\n",
        "\n",
        "  for i in range(len(mat[battery][0, 0]['cycle'][0])):\n",
        "    row = mat[battery][0, 0]['cycle'][0, i]\n",
        "    if row['type'][0] == 'discharge':\n",
        "      ambient_temperature = row['ambient_temperature'][0][0]\n",
        "      date_time = datetime.datetime(int(row['time'][0][0]),\n",
        "                               int(row['time'][0][1]),\n",
        "                               int(row['time'][0][2]),\n",
        "                               int(row['time'][0][3]),\n",
        "                               int(row['time'][0][4])) + datetime.timedelta(seconds=int(row['time'][0][5]))\n",
        "      data = row['data']\n",
        "      capacity = data[0][0]['Capacity'][0][0]\n",
        "      for j in range(len(data[0][0]['Voltage_measured'][0])):\n",
        "        voltage_measured = data[0][0]['Voltage_measured'][0][j]\n",
        "        current_measured = data[0][0]['Current_measured'][0][j]\n",
        "        temperature_measured = data[0][0]['Temperature_measured'][0][j]\n",
        "        current_load = data[0][0]['Current_load'][0][j]\n",
        "        voltage_load = data[0][0]['Voltage_load'][0][j]\n",
        "        time = data[0][0]['Time'][0][j]\n",
        "        dataset.append([counter + 1, ambient_temperature, date_time, capacity,\n",
        "                        voltage_measured, current_measured,\n",
        "                        temperature_measured, current_load,\n",
        "                        voltage_load, time])\n",
        "      capacity_data.append([counter + 1, ambient_temperature, date_time, capacity])\n",
        "      counter = counter + 1\n",
        "  print(dataset[0])\n",
        "  return [pd.DataFrame(data=dataset,\n",
        "                       columns=['cycle', 'ambient_temperature', 'datetime',\n",
        "                                'capacity', 'voltage_measured',\n",
        "                                'current_measured', 'temperature_measured',\n",
        "                                'current_load', 'voltage_load', 'time']),\n",
        "          pd.DataFrame(data=capacity_data,\n",
        "                       columns=['cycle', 'ambient_temperature', 'datetime',\n",
        "                                'capacity'])]\n",
        "dataset, capacity = load_data('B0005')\n",
        "pd.set_option('display.max_columns', 10)\n",
        "print(dataset.head())\n",
        "dataset.describe()\n",
        "dataset.to_csv(\"TARP.csv\")"
      ],
      "metadata": {
        "colab": {
          "base_uri": "https://localhost:8080/"
        },
        "id": "NsAjbUtGWGFq",
        "outputId": "cf7f45f1-5f2f-40c0-ae8c-f2e82b28a603"
      },
      "execution_count": null,
      "outputs": [
        {
          "output_type": "stream",
          "name": "stdout",
          "text": [
            "Total data in dataset:  616\n",
            "[1, 24, datetime.datetime(2008, 4, 2, 15, 25, 41), 1.8564874208181574, 4.191491807505295, -0.004901589207462691, 24.330033885570543, -0.0006, 0.0, 0.0]\n",
            "   cycle  ambient_temperature            datetime  capacity  voltage_measured  \\\n",
            "0      1                   24 2008-04-02 15:25:41  1.856487          4.191492   \n",
            "1      1                   24 2008-04-02 15:25:41  1.856487          4.190749   \n",
            "2      1                   24 2008-04-02 15:25:41  1.856487          3.974871   \n",
            "3      1                   24 2008-04-02 15:25:41  1.856487          3.951717   \n",
            "4      1                   24 2008-04-02 15:25:41  1.856487          3.934352   \n",
            "\n",
            "   current_measured  temperature_measured  current_load  voltage_load    time  \n",
            "0         -0.004902             24.330034       -0.0006         0.000   0.000  \n",
            "1         -0.001478             24.325993       -0.0006         4.206  16.781  \n",
            "2         -2.012528             24.389085       -1.9982         3.062  35.703  \n",
            "3         -2.013979             24.544752       -1.9982         3.030  53.781  \n",
            "4         -2.011144             24.731385       -1.9982         3.011  71.922  \n"
          ]
        }
      ]
    },
    {
      "cell_type": "code",
      "source": [
        "plot_df = capacity.loc[(capacity['cycle']>=1),['cycle','capacity']]\n",
        "sns.set_style(\"darkgrid\")\n",
        "plt.figure(figsize=(12, 8))\n",
        "plt.plot(plot_df['cycle'], plot_df['capacity'])\n",
        "#Draw threshold\n",
        "plt.plot([0.,len(capacity)], [1.4, 1.4])\n",
        "plt.ylabel('Capacity')\n",
        "# make x-axis ticks legible\n",
        "adf = plt.gca().get_xaxis().get_major_formatter()\n",
        "plt.xlabel('cycle')\n",
        "plt.title('Discharge B0005')"
      ],
      "metadata": {
        "colab": {
          "base_uri": "https://localhost:8080/",
          "height": 530
        },
        "id": "dcD72_ehX5Ha",
        "outputId": "dea7c7c3-1cfc-4627-c8f2-00fec4e2060b"
      },
      "execution_count": null,
      "outputs": [
        {
          "output_type": "execute_result",
          "data": {
            "text/plain": [
              "Text(0.5, 1.0, 'Discharge B0005')"
            ]
          },
          "metadata": {},
          "execution_count": 5
        },
        {
          "output_type": "display_data",
          "data": {
            "text/plain": [
              "<Figure size 864x576 with 1 Axes>"
            ],
            "image/png": "iVBORw0KGgoAAAANSUhEUgAAAtUAAAHwCAYAAABpOpNzAAAAOXRFWHRTb2Z0d2FyZQBNYXRwbG90bGliIHZlcnNpb24zLjUuMywgaHR0cHM6Ly9tYXRwbG90bGliLm9yZy/NK7nSAAAACXBIWXMAAAsTAAALEwEAmpwYAABlV0lEQVR4nO3dd3hUZfrG8ftMSe+NQAq99w4iKCA2iooNVty1rNiwse6ubfWn7tr72sXV1XWxgWJHKWKld6QKgYSS3tskM/P7I5AFSUJIMnOSyfdzXXtdZM6cc568zoabN895X8PtdrsFAAAAoMEsZhcAAAAAtHSEagAAAKCRCNUAAABAIxGqAQAAgEYiVAMAAACNRKgGAAAAGolQDQCNdO+99+qFF15o8Pnz58/X9OnTm7AiAIC3EaoBoA7jxo1Tv379NHDgQA0ZMkTTpk3T3Llz5XK5qt/zwAMP6MYbbzSxSs+544471KdPHw0cOFADBw7U1KlTtXLlymPe8+mnn2rs2LEaMGCAbrjhBuXl5VUfy8vL04033qgBAwZo7Nix+vTTT+t97uWXX66+fftW3/uss87y5LcKAI1CqAaAE3j55Ze1bt06LV26VNdcc41ee+013X333WaXVaPKysomv+bVV1+tdevWae3atZo+fbpuuukmOZ1OSdLOnTt177336rHHHtOPP/6owMBA3X///dXnPvDAA7Lb7frxxx/1+OOP6//+7/+0c+fOep0rVf0WYN26dVq3bp0WLlzY5N8bADQVQjUA1FNoaKjGjx+vZ555Rh999JF27NghqWo29+mnn5Yk5eTk6Nprr9WQIUM0bNgw/e53v6ue1T548KBmzZqlESNGaPjw4XrggQeOuf6jjz6qoUOHaty4cVq2bFn16/PmzdM555yjgQMHavz48Xr33Xerj61YsUJjxozRq6++qlGjRunOO+9UWVmZ/vrXv2ro0KE655xz9Nprr2nMmDHV56Snp+umm27SiBEjNG7cOL311lv1+v4Nw9CkSZOUl5enrKwsSVUzzePGjdPQoUMVHBysW265Rd98842KiopUUlKir7/+WrfccouCg4M1ZMgQjRs3TgsWLDjhuQDQ0tjMLgAAWpp+/fopPj5eq1evVrdu3Y459sYbb6hNmzb6+eefJUkbNmyQYRhyOp269tprNWLECC1ZskRWq1WbNm2qPm/jxo264IILtHz5cr333nu6++679f3338swDEVHR+uVV15RUlKSVq1apWuuuUZ9+/ZV7969JUlZWVnKz8/X0qVL5XK59Pzzz2v//v1atGiRSktLdc0111Tfx+Vy6frrr9e4ceP05JNPKj09XVdccYU6duyo0aNH1/l9O51Offzxx0pMTFRMTIykqtnmgQMHVr8nOTlZdrtdKSkpslgsslqt6tixY/XxHj16aNWqVSc8t0+fPpKkJ598Uk888YQ6duyo2267TcOHD6//fygA8CJmqgGgAeLi4pSfn3/c6zabTZmZmTpw4IDsdruGDBkiwzC0ceNGZWRk6C9/+YuCgoLk7++vIUOGVJ/Xrl07XXLJJbJarbrggguUmZlZPRt8+umnKzk5WYZhaNiwYRo1apRWr15dfa7FYtHNN98sPz8/BQQE6Msvv9S1116r8PBwxcfH6/e//331ezdt2qScnBzNmjVLfn5+SkpK0iWXXKIvvvii1u/1X//6l4YMGaKBAwfqoYce0i233CKr1SpJKikpUWho6DHvDwkJUXFxsUpKShQSEnLMsdDQUBUXF5/wXEm6/fbbtWjRIn3//fe69NJLdd1112nfvn21/0cBABMxUw0ADZCenq7w8PDjXr/66qv1/PPP66qrrpIkXXrppZo5c6YOHjyodu3ayWar+cfukZlfSQoMDJRUFToladmyZXrhhReUkpIil8ulsrKyY2bIIyMj5e/vX/11RkaG2rZtW/11fHx89Z/379+vjIyMYwK90+k85uvfuuqqq3TbbbfJ7XZr586duuqqqxQeHq7TTjtNQUFBx7VrFBUVKTg4WBaLpdZjkuo8V5L69+9f/foFF1ygzz77TMuWLdPll19ea60AYBZCNQCcpI0bNyo9PV2DBw8+7lhISIjuuOMO3XHHHdqxY4f+8Ic/qG/fvmrbtq0OHjyoysrKWoN1TRwOh26++WY9+uijGj9+vOx2u2644Qa53e7q9xiGccw5sbGxOnTokLp06SJJOnToUPWxtm3bKjExUV9//fXJftsyDEPdunXToEGDtGzZMp122mnq2rWrtm3bVv2e1NRUVVRUqEOHDrJYLHI6nUpJSVGHDh0kSdu2bauuq65za7v/0d83ADQntH8AQD0VFRVp6dKlmj17tqZMmaLu3bsf956lS5dq7969crvdCg0NldVqlWEY6tevn2JjY/Xkk0+qpKRE5eXlWrNmzQnv6XA45HA4FBUVJZvNpmXLlunHH3+s85xzzjlHr7zyivLz85Wenq7//Oc/1cf69eun4OBgvfrqqyorK5PT6dSOHTu0cePGeo3Br7/+qrVr11YH48mTJ2vp0qVavXq1SkpK9Oyzz2rChAkKCQlRUFCQJkyYoOeee04lJSVas2aNFi9erPPOO++E5xYUFOj7779XeXm5Kisr9cknn2j16tUn7PsGALMwUw0AJ3DdddfJarXKYrGoS5cuuvLKKzVt2rQa37t37149+OCDysnJUVhYmKZPn64RI0ZIqlqa7+9//7vGjh0rqSpU1jTbfbSQkBDdc889uvXWW+VwODR27FiNGzeuznNuvPFG3XfffRo/frxiY2M1efJkzZ8/X5JktVr18ssvV898OxwOdezYUbfeemut13v99df11ltvye12KyIiQlOnTq3+/rt27ar7779ft99+u/Ly8jRy5Eg9/PDD1efed999uuuuu3TKKacoIiJC//d//6euXbue8NzKyko988wz2r17t6xWqzp16qQXXnjhmIceAaA5Mdz8Lg0AfNp///tfffHFF8fMWAMAmhbtHwDgYzIyMrRmzRq5XC7t3r1bb7zxhs444wyzywIAn0b7BwD4mIqKCt13331KS0tTaGioJk6cqN/97ndmlwUAPo32DwAAAKCRaP8AAAAAGolQDQAAADRSi+updrlccjrN6VixWg3T7t2aMM7ew1h7B+PsPYy19zDW3sE4e09NY223W+t9fosL1U6nW3l5JabcOyIiyLR7tyaMs/cw1t7BOHsPY+09jLV3MM7eU9NYx8aG1vt82j8AAACARiJUAwAAAI1EqAYAAAAaiVANAAAANBKhGgAAAGgkQjUAAADQSIRqAAAAoJEI1QAAAEAjEaoBAACARiJUAwAAAI1EqAYAAAAaiVANAAAANBKhGgAAAGgkQjUAAADQSIRqAAAAoJEI1QAAAEAjEaobyOV2m10CAAAAmglCdQMs3ZmlC+asVH5phdmlAAAAoBkgVDdAUkSgDhaU6501aWaXAgAAgGaAUN0AXWKDdUb3WL27dr9ySxxmlwMAAACTEaobaObI9iqvdOnfK5mtbgneXpWqD9cfMLsMAADgowjVDdQhOkjn9IzThxsOKKuo3OxycAIfbTyot1elml0GAADwUYTqRvjjyPaqdLr05krCWnPmdruVUeTQgYJyHSooM7scAADgg2xmF9CSJUYEanKfeM3feFAzhiQqPizA7JJMsyuzWAu3ZSivtEL5ZZUqLq/UVSOSNTgpwuzSlF9WqfJKlyRpbVq+zu3Vev87AQAAz2CmupGuHpEsSXpjReuerX71573698pUffdrtlJySrQ1vUjPfbdH7mawnndG4f/ac9am5ptYCQAA8FWE6kaKDwvQlD7x+nTLIWW24t7qg/llGtkxUguvH6n3rxiiWaM76JdDhVrTDEJsxuH/LrEhflqTlmduMQAAwCcRqpvAjCGJcrrc+u+a/WaXYppDheWKD/1fW8XE3vGKCrLr383g4cAjM9Vndo9TWl7ZMTPXAAAATYFQ3QQSIwJ1Zo84zdtwoFXuslhW4VReaYXiw/yrX/O3WTRtUIKWp+Rqe0aRidVJ6UUOWQ1pQo9YSVV91QAAAE2JUN1E/jAsSaUVLr2/rvWthXzo8Mxvm1D/Y16/sH9bBdmtpi9ll1FYruhgP/WIC1GIv1VrUvNMrQcAAPgeQnUT6RITrDGdo/Xeuv0qcTjNLser0guqQvXRM9WSFBZg1wX92mrR9kztzy81ozRJVaG6Tai/rBZDAxLCmakGAABNjlDdhK4YlqT8skp9tPGg2aV41cHDaz+3rWFJwd8NTpBhGPrvavP6zTOKyhV3eBZ9UGK49uWWsmEPAABoUqxT3YT6tgvTkKRw/Wd1miKD7LJZDFkthgLtVsWH+attWIAC7VYVlVdqR2aRtqUX6UB+mSIC7YoJ9lNsiL/6J4QpxL9l/Wc5VFguiyHFBvsddywu1F/n9IzTgs2HdPXIZEUFHf8eT3K73UovLNfIDlGSpEGH181em5avM3vEebUWAADgu1pWemsBrh7RXtd/sFH3fbm9xuMh/lYVlf+vPSTIblVJxf++7hQdpHd+P1g2i+HxWpvKocJyxQT7yWat+Rcfvx+WpM9/Sdfbq9J0y2mdvFpbscOp0gpX9Ux197gQBftZCdUAAKBJEaqb2JDkCH153QiVOpxyutyqdLtVVFap9MJyHSwoU0aRQzHBfureJkTd40IUE+wnR6VL2SUO/bQnR48s2qUFmw7qwv7tzP5W6i29oKzO3SQ7RAXprB5x+mD9AV0+NNGrs9Xphx+ijAupuqfNYqh/QhibwAAAgCZFqPaAmGA/Kbj+7/ezWdQ2LEBT+7XVwq0ZevWnvTqrR1yLaQM5VFiuXm1C63zP1SOStXBbhtdnq49s/HL0yiSDEiP0/J49yilxeL0dBQAA+CYeVGxGDMPQLad3Vk5JhenL0NWX63DP8m9X/vit9lFBOrtn1Wx1drHDS9X9b+OXuKNC9eCkcEnSD7/meK0OAADg2wjVzUzv+FCd1SNW76zZX9260JzlFDtU4XTX2f5xxFXDk1XhdOntVWleqKxKRqFDhg7/9uCw3vGh6hobrH+vSpXT5fZaLQAAwHcRqpuhG07tKLfbrZd+TDG7lBM6svFLfGjdM9VS1Wz1OT3j9OEG781WpxeVKyrYT/ajHqI0DENXj0jWvtxSLd6R6ZU6AACAb2sZTbutTLvwAE0blKC3V6Up2G5Vj8MPNbaPCpKf1ZBhNJ+VQQ7VsvFLba4a0V5fbs3Q7Qu2aEBCuNqFByguxF+lFU7llDiUXVyhpNhgnd+zaVbmyCgsr35I8Whju8aoY3SQXl++T2d0j5WlGY0pAABoeQjVzdSVw5O1M7NYn2w+pPfXu6pfN1T1YKOf1aKjV90LsFv13IV91Cn6JJ6QbAL/m6k+cfuHJCVHBmrW6I5asOmQ3l+3Xw7nse0XFkNyuaXuUYHqeYKHH+sjo6hcSRGBx71uMQxdNTxZf/tim77dla1xXWMafS8AANB6EaqbqRB/m567sK+cLrdS80q1I6NI+/PLVF7pkqPSJYfTpaPbgb/4JV2v/rRXj0zu5dU6DxWUKdjPqhB/a73PuXxoki4fmiSX263sYocyCssV7GdTVLBdFsPQpNdW6J3Vafr7xJ6Nri+j0KHBiRE1Hjuje6xe/SlF/1q+T2O7RDer3wAAAICWhVDdzFkthjpEBalDVFCd7wsLsOn15fu0K7NYXWK9N1t9qKBcbUL9GxRILYah2BB/xYYc2zoybUiS3vwpRbNGd6zXA5C1KXE4VVheeczKH0ezWQxdMTxZDy7coR/35OjUTtENvhcAAGjdeFDRR0wflKBgP6vmLN/r1fseKixX20YE35r8YWR7yTA0d+3+Rl3nyBrVcaG1r0V9bs84tQvz1+vL98ntZiUQAADQMIRqHxEeaNe0QQlavCNLuzKLvXbfQwVl9X5Isb7ahgfqjG4xWrDpkIrKKxt8neo1qkNqr89mtegPw5K0+WChVu7Na/C9AABA60ao9iFHZqtf+9k7s9WlFU7ll1Ues1thU5kxJFHFDqc+2niwwdeoaTfFmkzqHa+4ED+97uVZfgAA4DsI1T7kyGz1kp1Z2plZ5PH7pZ/kcnono0ebUA1JCte7a/erwlm1+onb7Vaxo7LebRoZhVVrYf+2Z/u3/GwW/X5oktbtL9DatLxG1Q0AAFonHlT0MdMHJejdtfv1ty+2aUBCuMIDbAoPtCsswKbwALvCA+1KCA9QdHDtfcb1dbCwTFL9l9M7WTOGJOnWjzbrxg83qbi8Uml5ZSqpcCrU36b2UYFqHxWkM7vH6pSOUTWen1FUrohAu/xtJ/6343l94/WvFfv0+s/7NOjiiCb+TgAAgK8jVPuY8EC7/jyui95YsU+Ld2SpoKxCv92JO8Bm0dszBqlDdN0ripzIyW78crJGdozU8PYROlhQtdb0oKQIRQfZdaiwXHtzSvTj7hwt2p6pT68Zpsig4/+RkF7Lxi81CbBbNWNIop77bo82HShQ33ZhTf3tAAAAH0ao9kETe7fRxN5tJEkut1vF5U7ll1Uov7RC2SUVuvuzrXpz5T793zk9GnWfQ4Xlshgnbq9oKIth6PmL+tV6PCWnRJe8sVrvrTug60Z1OO54RmF5rcvp1eTC/u3075Wpen35Pj0ztU9DSgYAAK0UPdU+zmIYCg2wKTEiUL3bhmlM52hd0K+tvtqaobS80kZdO72gTLEh/rJZzNk0pUNUkE7rEq0P1h9QicN53PGMIsdJPUQZ5GfVZUMS9eOeHG1NL2zKUgEAgI8jVLdCM4YkymIx9PaqtEZd51BhueI9sPLHyfjDsCQVlFXq403HrhJSXulSXmlFncvp1eTiAe0UFmDTXZ9tbfQ/OgAAQOtBqG6F4kL9Nbl3vD7dcqh6LeeGOFhQ7rF+6vrq0zZMgxLD9c7qtOpVQiQpsx4bv9QkxN+mpy/oo8KySl09d722MWMNAADqgVDdSv1+WKJcLrfeWdOw2Wqny62MwnK18dDKHyfj98OSlFHk0MJtGdWvpR/+x0JD+r37tQvTa9MGyM9q0bXvbdSKvblNVisAAPBNHgvVd955p0aOHKlJkybVeLywsFDXXXedpkyZookTJ2revHmeKgU1SAgP1Fk94zR/w0HlljhO+vycEocqXW7TZ6ol6ZQOkeoaG6y3VlXNVm8+WKAvfkmXJLVp4EOUHaOD9Pr0AWoXHqBb52/Wsl1ZTVkyAADwMR5b/WPq1KmaMWOG/vrXv9Z4/J133lHnzp318ssvKycnR2effbYmT54sP7/Gr5+M+rliWLK+/CVDf/timwYmhis6yE8RgXYVOSqVU1yh7BKHsosdyi6pUE5x1Z8Nw1Cwn7X64cS2zSBUG4ahy4cm6t4vtmvs8z+pvLKqDaR3fKjahTd8Jj0u1F+vXtpfN8/fpDs+3apHJvfSaV2im6psAADgQzwWqocOHaq0tNpbCwzDUHFxcdUuecXFCg8Pl83GCn/e1DE6SL8flqSPNh7Uir15xx0PsFkUHeyn6GA/JUcGamBiuCSp2OFUcXmlkiMD1bdt81jPeUL3OK1IyVWA3arBSREalBjeJBvchAbY9M8L+2rWh5t0x6e/6NEpvTSmM8EaAAAcy7QUe9lll+n666/X6NGjVVxcrKeffloWCy3e3jZrdEfNGt1RjkqXckocyi2tUKi/TVFBfgrys5pdXr3ZLEaj192uTYj/4WA9b5P++skvemxKL40mWAMAgKOYFqp/+OEH9ezZU2+99Zb27dunK6+8UkOGDFFISEid51mthiIiGrcTYENZrRbT7u0NcWYXcFhzHOcISW9fNUy/f3OVHli4Q9/+6TQF+7f836w0x7H2RYyz9zDW3sNYewfj7D2NHWvTUsH8+fM1c+ZMGYah9u3bKzExUbt371a/frXvoCdJTqdbeXklXqryWBERQabduzVpzuP8p9M66aq56/XG97s1Y0ii2eU0WnMea1/COHsPY+09jLV3MM7eU9NYx8aG1vt80/ot2rZtq59//lmSlJWVpT179igxseWHFPi2vu3CNCQ5Qu+sTqt+IBIAAMBjoXr27NmaNm2a9uzZozFjxuiDDz7Q3LlzNXfuXEnSDTfcoHXr1mny5Mm64oordPvttysqKspT5QBN5sphScoqdujzLYfMLqVObrdbP6fkqNLlNrsUAAB8nsfaP5566qk6j7dp00b/+te/PHV7wGOGJkeod3yo/r0qTVP6tq1eXrC52ZFZrJvnbdaNp3bQFcOTzS4HAACfxnIbwEkyDENXDk/WgfwyfbM948QnmOTIrpL/WZ2mEofT5GoAAPBthGqgAUZ3jlLnmCC9sSJVLnfzbK/IKa7aKTO/rFIfrD9gcjUAAPg2QjXQABbD0BXDkrUnu0Rf/tI8Z6tzSiokSUOSwvX2qlRmqwEA8CBCNdBAZ3SPVd+2YfrHNzu0PCXH7HKOk13sUKi/TTec2lH5ZZX6kNlqAAA8hlANNJDNYuiZqb3VISpIty/4RevT8s0u6Rg5JQ5FBdnVt12YRnaI1Nv0VgMA4DGEaqARwgLs+ueFfdUm1F+3frRZ29ILzS6pWnZJhaKC/SRJ14xsr7zSCmarAQDwEEI10EjRwX564aK+CvW36eZ5m5VXWmF2SZKqHlSMDrJLUvVs9Ttr0li3GgAADyBUA00gPixAT1/QR3mlFfr3ylSzy5FU9aBiVJBf9dcX9GurnJIKrU3NM68oAAB8FKEaaCJdYoN1bq84fbD+gDIOrxFtlvJKlwrLKxUVbK9+bWSHSAXaLVq8I8vEygAA8E2EaqAJzTylg5wut+Ys32tqHbklVWtURx81Ux1gt+rUTtFaujNLTlpAAABoUoRqoAm1Cw/Q1H5t9cmmQ9qXW2paHdmH16g+8qDiEeO7xSi3tELr9zevlUoAAGjpCNVAE7tqRLLsVote+THFtBqO7KZ45EHFI0Z1jFKAzaJF2zPNKAsAAJ9FqAaaWHSwn6YPTtDX2zO1Pi1fOSUO5ZQ4VFRe6bUacg63f/x2pjrAbtWoTlFauiubFhAAAJqQzewCAF90+ZAkzdtwUNe8t6H6NUPSDad20BXDkz1+/+ziw+0fQX7HHRvXNUaLd2Rpw4F8jYsK9ngtAAC0BoRqwANCA2x6bmof/ZJeVP3aqn15euGHFLncVS0inpRT4lCIv1X+tuN/GXVqp2j52yxasiNL4/q082gdAAC0FoRqwEN6tw1T77Zh1V9P7ddWDyzcrpd+TJHT7dY1I9t77N7ZxRU1zlJLUpCfVSM7RGrJziy5aAEBAKBJ0FMNeInVYujes7prYu82evWnvXrtp5qX3at0ubXpQIHc7oYH3pwSx3EPKR5tfLdYZRY5tI6NYAAAaBKEasCLrBZDfzuzmyb3bqNXf96rt1cdu/tipcutez7fqqvmrtfDi3Y2+GHCnBLHcQ8pHu3UTlHysxqav25/g64PAACORagGvMxqMXT3md10RrdYPffdHn208aCkqkB93xfbtHhHloa3j9BHGw/pvi+3qdLpOul71NX+IUkh/jZN6ROv+ev260B+WYO/FwAAUIVQDZjAajH0wLnddUrHSD38zU59tTVD93+1XV9vz9TNYzrq+Yv66cZTO2jhtkzd8elWOSrrH6wdh7cojw6uvf1Dkq4YniyLxdC/lu9r7LcDAECrR6gGTGK3WvTo5F4akBCmv32xTV9tzdANp3bQ5UOTJFWF3j+P66xlv2br3i+31fu61WtU1zFTLUltQv01bUiSPttySKkm7v4IAIAvIFQDJgqwW/XUBX00pnO0bh7TUVf+Zg3rSwYmaObI9lq8I0tb0wvrdc2cktrXqP6ta8d0lM1q0evLa35oEgAA1A+hGjBZiL9NT57fu3qG+remD05QiL9Vb65IrfH4bx2ZqT5R+4ckxYUG6KL+7fTl1gyl5JTUv2gAAHAMQjXQzIX423TJwAQt3ZmlPdknDr7ZxfVr/zji98MS5We1aM7PzFYDANBQhGqgBZg+MEH+Nov+verEs9X/a/848Ux11fv8dMnABH29LVO/ZhU3qk4AAForQjXQAkQE2XVBv7b66pf0Ey6Bl13sULCfVQF2a72vf/nQRAXarcxWAwDQQIRqoIW4bEiiDMPQf1an1fm+nJIKRdex8UtNIgLtmjY4QYt2ZGlnZlFjygQAoFUiVAMtRJtQf03s3UYLNh1U1uG+6ZrklDjq3fpxtMsGJyjYz6pXa9k+HQAA1I5QDbQgfxiapEqX+7jtzY+WXeyo90OKRwsLsOuywYn6dld2vZfvAwAAVQjVQAuSFBmoib3a6MP1B3SooObe6pySigbNVEtVy/eFBdiYrQYA4CQRqoEWZuYp7eWWNOfn47cXr3C6VFBWedI91UeE+Ns0Y0iiftido80HCxpZKQAArQehGmhh4sMCdGH/dvp0y6HjNmypXk6vgaFaki4Z2E7hATY9tXS3yiqcjaoVAIDWglANtEBXDk+Sv82iV35MOeb16t0UG9j+IUnBfjb9ZXwXbT5YoD99vIVgDQBAPRCqgRYoKshPvxucqEU7srTtqIcKT3Y3xdqc2SNO957dTav25RGsAQCoB0I10ELNGJKo8ACbXvg+RW63W5KUU3yk/aPhM9VHTOodT7AGAKCeCNVACxXib9NVI5K1fG+u3lxZtcRednX7R+Nmqo84OljfvoBgDQBAbWxmFwCg4aYNStDW9CK9+EOKooLsyimpOOktyk9kUu94ud3Sgwt36PYFW/TEeb2b9PoAAPgCQjXQglkMQ/ee1U15pRV66Judahce0OA1qusyuU+8pKpg/ecFv+jx83oRrAEAOArtH0ALZ7da9OjkXurRJlRpeWWNfkixNpP7xOtvZ3XTir25+vMnv8h1uI8bAAAQqgGfEORn1TMX9FbH6CB1iQ322H0m94nXn8d30fKUXC3anumx+wAA0NLQ/gH4iMggP/3394NlNTx7nwv7t9X8DQf1yk97Na5brGwWD98QAIAWgJlqwIfYLIYMw7Mh12IYum5Ue+3LLdUXv6R79F4AALQUhGoAJ21M52j1bBOiOT/vVYXTZXY5AACYjlAN4KQZhqHrT+2ggwXlWrDpkNnlAABgOkI1gAYZ0T5SAxLC9K8V+9gUBgDQ6hGqATSIYRi6blQHZRY5NG/DQbPLAQDAVIRqAA02OClCw5Ij9NaqVGarAQCtGqEaQKNcM7K9ckoqNH8js9UAgNaLUA2gUQYkhmtIcoTeWpXGbDUAoNUiVANotGtGJiu72KGPWAkEANBKEaoBNNqgxAgNTgrXWytTVV7JutUAgNaHUA2gSVwzsr2yih36mN5qAEArRKgG0CQGJ0VoYGK4/r2K2WoAQOtDqAbQZGaObK/MIof+78vtqnS5zS4HAACvIVQDaDJDkiN085iOWrQjU/d9sY1gDQBoNWxmFwDAt1w+NEkut/T893tkGNL95/SQ1WKYXRYAAB5FqAbQ5P4wLEkut1sv/pAiwzB031ndZLPyizEAgO8iVAPwiCuHJ0uSXvwhRTnFDj06pZdC/PmRAwDwTUwdAfCYK4cn696zumlNWr6unrtehwrKzC4JAACPIFQD8KjJfeL13NQ+Si8s1xX/Xa8dGUVmlwQAQJMjVAPwuGHtI/X69AGyWQzN+nCT9uWWml0SAABNymOh+s4779TIkSM1adKkGo/PmTNH5513ns477zxNmjRJPXv2VF5enqfKAWCyzjHBev6ivnJLuunDjcosKje7JAAAmozHQvXUqVM1Z86cWo//8Y9/1IIFC7RgwQLNnj1bQ4cOVUREhKfKAdAMdIgK0jNT+yi3tEI3z9uswrJKs0sCAKBJeCxUDx06VOHh4fV67+eff17rjDYA39I7PlSPT+mtlJwS/enjzSqrcJpdEgAAjWb6+lalpaX6/vvv9be//a1e77daDUVEBHm4qtrubTHt3q0J4+w9Zo31WQOC9ITVots+2KD/+3qnnp82wKfXseYz7T2Mtfcw1t7BOHtPY8fa9FC9dOlSDRo0qN6tH06nW3l5JZ4tqhYREUGm3bs1YZy9x8yxHpUUrtvHdtbjS37VXz/coHvO7CbD8M2dF/lMew9j7T2MtXcwzt5T01jHxobW+3zTQ/Xnn3+uiRMnml0GABNcMjBBOSUVen35PkUG+WnW6I5mlwQAQIOY+vvWwsJCrVq1SuPHjzezDAAmuvaU9rqgX7z+vTJV763db3Y5AAA0iMdmqmfPnq2VK1cqNzdXY8aM0U033aTKyqon/adPny5J+uabbzRq1CgFBdErBLRWhmHor+O7KrPIoX9+v0dju8YoLtTf7LIAADgphtvtdptdxMmoqHDSU+3jGGfvaU5jvT+/VBf9a7Um9W6ju8/sZnY5Tao5jbOvY6y9h7H2DsbZexrbU+27j9sDaFESwgN10YB2+mTzIaVk8xcIAKBlIVQDaDauGp6kQLtVL/ywx+xSAAA4KYRqAM1GZJCfLh+aqG93ZWvjgQKzywEAoN4I1QCald8NTlRUkF3Pf7dbLeyRDwBAK0aoBtCsBNqtmnlKe63bX6AfdueYXQ4AAPVCqAbQ7JzXJ14J4QF69ae9zFYDAFoEQjWAZsdmteiqEcnallGk75mtBgC0AIRqAM3SuT3jlBAeoNeYrQYAtACEagDNErPVAICWhFANoNlithoA0FIQqgE0W8xWAwBaCpvZBQBAXc7tGad/Ld+nJ5f+qiU7MlXpcsvpcuusHnE6vWuM2eUBACCJmWoAzZzNatHNp3WSy+XWurR8bU0v0qp9eXp40U6VVTjNLg8AAEnMVANoAcZ1jdG4o2al16bl6dr3NmrBpkO6dFCCiZUBAFCFmWoALc6gxAgNSAjTW6tSVeF0mV0OAACEagAt05XDk5VR5NAXv6SbXQoAAIRqAC3TyA6R6tkmRP9emapKF8vtAQDMRagG0CIZhqErhicrNa9Mi7dnml0OAKCVI1QDaLFO7xKtjtFBemPlPrnYHAYAYCJCNYAWy2IYumJYkn7NKtEL36ew6yIAwDQsqQegRTu7Z5zW78/XW6tSlVvi0F1ndpPNYphdFgCglSFUA2jRLIahO8/oqphgP7328z7lllbo4Uk9FWC3ml0aAKAVof0DQItnGIZmntJBd5zRRT/tydENH2xSUXml2WUBAFoRQjUAn3Fh/3Z6eFJP/ZJeqFkfblJhGcEaAOAdhGoAPmVct1g9OrmXtmcU6cYPN6qgrMLskgAArQChGoDPOa1LtB6b0ku7sop14weblF9KsAYAeBahGoBPGt05Wo9P6a1fs4v1zLLdZpcDAPBxhGoAPmtUpyhd0LetvtqaoUMFZWaXAwDwYYRqAD7tsiGJcrvdmrt2v9mlAAB8GKEagE9rFx6gCT3i9NHGg/RWAwA8hlANwOf9fmiiSitc+nDDAbNLAQD4KEI1AJ/XNTZEp3SM1HtrD6iswml2OQAAH0SoBtAq/GFYknJLK/TplnSzSwEA+CBCNYBWYWBCuPq2DdV/VqfJUekyuxwAgI8hVANoFQzD0NUj2+tAfplu/Wizih1sYQ4AaDqEagCtxqiOUfq/s7trbWqebvhgk/JKWA0EANA0CNUAWpWJvdvosfN669esYl3z3no2hQEANAlCNYBWZ0znaP3zwr7KKnbomnc3KDW31OySAAAtHKEaQKs0MDFcL1/SX6UVTl37/galZJeYXRIAoAUjVANotbrHhejlS/vL6XLr2vc3aFdWsdklAQBaKEI1gFatS0ywXrm0v6wWQ9e9t0Hb0gvNLgkA0AIRqgG0eh2igvTqpf0VaLfqhg82afPBArNLAgC0MIRqAJCUGBGoV6f1V3igTbM+3KT1aflmlwQAaEEI1QBwWNuwAL1ySX/FBPvppnmbtGpfrtklAQBaCEI1ABwlLtRfr1zaXwkRAbrtoy1ax4w1AKAeCNUA8BvRwX566eJ+ig/1120fbdb2jCKzSwIANHOEagCoQWSQn56/qK9C/G26ed4m7WODGABAHQjVAFCL+LAAPX9RX7nc0qwPNyqjsNzskgAAzRShGgDq0CEqSM9d2EcFZZV68OsdZpcDAGimCNUAcAI924TqyuHJWp6Sqy2H2BwGAHA8QjUA1MOF/dsqLMCmN5bvM7sUAEAzRKgGgHoI8bdp2sAELfs1W7syi80uBwDQzBCqAaCeLhnYTkF2q95YwWw1AOBYhGoAqKfwQLsuGtBO32zP1N6cErPLAQA0I4RqADgJvxucID+bRf9emWp2KQCAZoRQDQAnITrYT+f3jdcXWzO0g50WAQCHEaoB4CT9YViSooLsuu79jdqwP9/scgAAzQChGgBOUmyIv16fPkCRQXbd+OEm/bA72+ySAAAmI1QDQAO0DQvQnGn91Sk6SLd/vEWfb0k3uyQAgIkI1QDQQJFBfnrpkn4anBSh//tqu+ZtOGB2SV7jdrt16/zN+nF3jtmlAECz4LFQfeedd2rkyJGaNGlSre9ZsWKFzjvvPE2cOFEzZszwVCkA4DHBfjY9dUEfje4UpUcW7dJ/16SZXZJXFDuc+nFPjn7aQ6gGAMmDoXrq1KmaM2dOrccLCgp0//3366WXXtLnn3+uZ5991lOlAIBH+dssenRKL43rGqOnv93dKjaHKSqvlCQdKCgzuRIAaB48FqqHDh2q8PDwWo9/+umnmjBhgtq1aydJio6O9lQpAOBxdqtF/5jUU2f1iNWLP6Too40HzS7Jo4ocTknSQUI1AEiqZ6jOzc1t8hunpKSooKBAl19+uaZOnaqPP/64ye8BAN5ksxi6/5we6t8uTHN+3qsKp8vskjym+PBM9cH8crndbpOrAQDz2erzpksvvVQ9evTQhRdeqDFjxsgwjEbf2Ol0asuWLXrzzTdVVlamadOmqX///urYsWOd51mthiIighp9/4awWi2m3bs1YZy9h7H2jJvGd9Uf316j7/fla+rABJ8cZ3dGsSSppMIp+dsVEeRnckVVfHGsmyvG2jsYZ+9p7FjXK1QvXLhQP/30k+bNm6e///3vOuecc3TBBRecMADXJT4+XhEREQoKClJQUJCGDBmibdu2nfCaTqdbeXklDb5vY0REBJl279aEcfYextoz+sUGqWtssF7+9led3iFCUZHBPjfO6dnF1X/enpqrHm1CTazmf/hMew9j7R2Ms/fUNNaxsfX/2Vav9g/DMDRq1Cg99dRTevDBB/XRRx/p4osv1owZM7Ru3bqTq/iw8ePHa82aNaqsrFRpaak2btyozp07N+haANCcGIahPwxN0p6cEn3/a/03hlmblqdHFu1sEe0URY7K6j8fKCg3sRIAaB7qNVOdm5urTz75RAsWLFBMTIz+9re/ady4cdq6datuueUWLVmy5LhzZs+erZUrVyo3N1djxozRTTfdpMrKqh/C06dPV+fOnTV69GhNmTJFFotFF110kbp169a03x0AmGR891i9+GOK3lyZqimDk074fpfbrccW79KvWSW6dGCCOkY371/3FpU7q/98MJ+HFQGgXqF62rRpmjJlil588UXFx8dXv963b19NmzatxnOeeuqpE173j3/8o/74xz/Ws1QAaDlsFkMzhiTqscW7tDIlV90jA+p8/7e7svVrVtWvHdek5jX7UF1YXimrxVCAzcIKIACgerZ/3HLLLbrxxhuPCdRffvmlJGnmzJmeqQwAWrjJvdsoMtCuV7/fXef73G635vy8V8mRgYoN8dOa1HwvVdhwReWVCvGzql14gA4wUw0A9QvVr7322nGvvfrqq01eDAD4kgC7VdMHJ+i7nVn6z+q0Wnulv/s1Wzszi3XV8GQNTorQ2rS8Zt9XXVReqRB/m9qGBehQIT3VAFBn+8eyZcv03XffKT09XX//+9+rXy8qKpLVavV4cQDQ0l02OFG7c0v17LLdOlRQpttO7yyr5X/LklbNUu9TYkSAzuoZp0qXS19tzdCenBJ1ig42sfK6FTuch0O1v9akVv0joCmWWwWAlqrOmeo2bdqoT58+8vf3V+/evav/N27cOL3++uveqhEAWiw/m0XPXjJAvxucoPfWHdAdn/6isor/PeT3454cbcso0pXDk2WzGBqcFCFJzb4FpGqm2qq2YQEqdjhVWF554pMAwIfVOVPdo0cP9ejRQ5MnT5bNVq9nGgEAv2GxGLrt9M6KDwvQ00t/1cRXV6hTdJA6Rgdp/f4CtQvz17k94yRJCeEBigvx09rUPF08oJ3JldeuqNyphPAAtQ2vegDzYH65wgLsJlcFAOapMynfcsstevbZZ3XBBRfUePzTTz/1SFEA4IumD0pQp6ggLd6ZqZTsEi3ZkaX8skrdd3Y32axVvzg0DENDkiP0857cZt1ScWSmul2YvyTpQEGZurcJMbkqADBPnaH67rvvliS9/PLLXikGAHzd8A6RGt4hsvrrEodTQX7HPqMyODFCX/zSvPuqixz/e1BREsvqAWj16gzVcXFVv450uVyKi4uTv3/VjERZWZmysrI8Xx0A+LjfBmpJGpQULklavS+/WYZql9ut4vKqBxXDAmwK9rPqILsqAmjl6r1O9dG/grRYLLrllls8VhQAtGYJ4QFqE+qvtWl5ZpdSoxKHU25JIf42GYahtmEB7KoIoNWrV6h2Op3y8/Or/trPz08VFRUeKwoAWjPDMDQkKVxrUvOb5XrVRYdX+gg5PMseH+avA7R/AGjl6hWqo6KitHjx4uqvFy1apMjIyDrOAAA0xqCkCOWVVmh3donZpRynqLxqScAQ/6oOwnZhAfRUA2j16rVO3v3336/bb79dDz74oNxut9q2batHH33U07UBQKs1+HBf9ZrUfHWOaV591dUz1f5VM9VtwwNUVO5UYVmlQgNYfhVA61Svn37Jycl6//33VVxcLEkKDm5eP+ABwNe0CwtQu/AALdyWoYsHtG1WS+sVOY6E6iMz1VUPsR8sKFNoAMvqAWid6j2l8O2332rnzp0qL//fE96zZs3ySFEA0NoZhqHfD03UI4t26cc9OTq1U7TZJVWrbv/wq/orpHoDmIIydYsjVANonerVU33vvffqiy++0H/+8x9J0sKFC3XgwAGPFgYArd15feKVGBGgF39IkasZPbB4XPtHaFWoPsCyegBasXqF6nXr1umxxx5TWFiYZs2apXfffVcpKSkeLg0AWjeb1aLrTumgnZnF+npbptnlVPtfqK6aqQ4PtCnQbmFZPQCtWr1CdUBA1SxEYGCg0tPTZbfblZnZfH7AA4CvmtAjVl1jg/XyjymqcLrMLkeSVFjulM1iyN/2v63V27ICCIBWrl6h+vTTT1dBQYGuvvpqTZ06VePGjdOkSZM8XRsAtHoWw9CNoztqf36ZPt50yOxyJEnFh7coP/rhyXbhAeyqCKBVq9eDijfeeKMk6ayzztLYsWNVXl6u0NBQjxYGAKhySodIDUwM15yf9+rcXnEK9jN32bqi8srqfuoj2oYFaOOBApMqAgDz1Wumury8XG+88YZmzZqlP/3pT5o3b94xq4AAADzHMAzdNLqj8kordNv8zSo+vKSdWYrKndUrfxzRNsxfBWWV1f3WANDa1CtU/+Uvf9HOnTs1Y8YMXXbZZdq1a5f+/Oc/e7o2AMBhfduF6e8Te2rjgQLdPG+zqeG1ppnq7oeX0lu1L8+EigDAfPX6HeLOnTv1xRdfVH89YsQInXvuuR4rCgBwvAndY2U1pLs+36ab5m3SPy/sW70ChzcVOSqVFBF4zGuDkiIUEWjX4h2ZGts1xus1AYDZ6vXTuFevXlq/fr0GDBggSdqwYYP69OnjyboAADUY1y1Wj1oM3fHpVp03Z6WiguwK9rMp1N+mSwa20+jOnt8kpqjcqeDfhHmbxdDpXaL19bZMlVU4FWC31nI2APimeoXqLVu2aNq0aWrXrp0k6cCBA+rYsaMmT54sSfr00089VyEA4BindYnRPy/sq6+2Zai43KliR6X25Zbq9gVbdPeEbprSN96j9y8qr1SI3/Gh+Yxusfp40yEtT8nV6cxWA2hl6hWq58yZ4+k6AAAnYUhyhIYkR1R/XVrh1F8++UUPfr1DeaUV+v2wJI/c1+lyq9jhrLHtZHBSuMIDbFq0I5NQDaDVqdeDigkJCUpISFBAQIAMw6j+35HXAQDmCrRb9dT5vTWhe6z++f0ePbdst9we2Nq8xOGUJIXWEKptVotO7xKjH3bnqLyyeWxUAwDeUq+Z6sWLF+vRRx9VRkaGoqKidODAAXXu3Fmff/65p+sDANST3WrRg+f2UHiATW+vTpO/zaJrR3Vo0nsUOY5sUV5zz/T47jFasLmqBeS0Lp7v7waA5qJeM9XPPvus3nvvPXXo0EFLlizRm2++qf79+3u6NgDASbJaDP1lfBdN6dNGc5bv0/wNB5r0+keW8qtt1ZGhSREKD7Bp8Y7MJr0vADR39QrVNptNkZGRcrlccrlcGjFihDZv3uzp2gAADWAYhu6c0E2ndorSo4t36dudWU127aLyqvaP327+coTNatFpXaL13a/ZctACAqAVqVeoDgsLU3FxsYYOHarbb79df//73xUUFOTp2gAADWSzGHpoUk/1bBOqe77Ypg3785vkuv+bqa59ybzx3WJV7HBq+d7cJrknALQEdYbqvXv3as2aNXrxxRcVGBioO++8U6NHj1ZERITuueceb9UIAGiAQLtVz1zQR3Ehfrr3y+2qdDZ+5vhIT/Vv16k+2rDkCIXRAgKglakzVD/00EMKCQlRUFCQLBaLbDabLrjgAk2YMEHPP/+8t2oEADRQRJBdt53eWQfyy/TFLxmNvl51+0cdodpmtWhM52gt20ULCIDWo85QnZWVpe7dux/3evfu3bV//36PFQUAaDqndopSzzYh+teKfY2era5u/6hh85ejnXG4BWQFLSAAWok6Q3VhYWGtx8rKypq8GABA0zMMQ38c2V7788v0xdbGzVYXlVfKbjXkb6v7kZxh7SMU6m/T4iZ8SBIAmrM6fyr26dNH77///nGvf/DBB+rdu7fHigIANK3RnaLUIy5Eb6zYp0pXwzeFKSp3KsTPJsMw6nyf3WrRmC7R+m5XtiqaoJcbAJq7Ojd/ueuuuzRr1ix9+umn1SF68+bNqqiooKcaAFqQI7PVty/Yoi9/SdfkPvENuk5ReWWdK38c7YxuMfp8S7pW7s3TqE5RDbofALQUdYbqmJgYvfvuu1q+fLl27twpSTrttNM0cuRIrxQHAGg6YzpHqXtcVW/1Ob3ayGape7a5JkWOyjofUjzasORIhfhbtWhHJqEagM+r10/GESNGaMSIEZ6uBQDgQYZh6JqRybp9wS9auDVDE3u3OelrFJU761xO72h+tv+tAlLhdMlurdfWCADQIvETDgBakTGdo9UtNlivL9/boN7qovLKE678cbTx3WJVWF6plfvyTvpeANCSEKoBoBU50ludmlemr7ed/EogVT3V9ZuplqQR7SMV7GfV4u1sBAPAtxGqAaCVOa1LtLrGBuv15Se/Ekixw3lSobq6BeTX7CbZ0REAmitCNQC0MpbDs9X7cktParba6XJXheqTaP+QqlpACsoqtXAbs9UAfBehGgBaodO7RKtLTNVstbOes9XFjqrdFEMD6j9TLUmndIxU37ah+vvXO/TTnpyTrhUAWgJCNQC0QpbDK4Hsyy3V19urZquLyiuVkl1Sa5tGUblTkhTid3Kh2m616NmpfdU5Jlh/+eQXrdrH1uUAfA+hGgBaqdO7xqhzTJAe+WaXxj7/o8Y+/5MufnO1rn53g0ornMe9v6i8aqa6vpu/HC00wKbnL+yrhPAA/enjLdqwP7/R9QNAc0KoBoBWymIY+sv4LhrWPkLn9Gyjm0Z31E2jO2pbeqHu/HTrcQ8xFh1u/6jvOtW/FRFk1wsX91NsiL9mf7xF+aUVjf4eAKC5aNhPRgCATxiUGKFBiRHHvBbib9XDi3bpkUU7dfeErjKMqp0Xq9s/GhiqJSkm2E+PTu6l3721Rm+vTtOs0R0bfC0AaE6YqQYAHGNq/3a6akSyFmw6pDk/76t+vbr94yRX//itLrHBOrNHrN5du19ZxY5GXQsAmgtCNQDgONed0l6TerfRqz/v1dy1+yU1zUz1Edee0kGVTpfeWL7vxG8GgBaA9g8AwHEMw9DdE7qqxOHUU0t/ldvtVllF1aogTRGqkyIDNblPvOZvPKgZQxPVNiyg0dcEADMxUw0AqJHNatE/JvbQGd1i9PS3u/XJ5kOyWw3525rmr46rRyTLYkiv/bS3Sa4HAGYiVAMAamWzWvTgxJ6a0D1W+/PLFNoEs9RHxIcF6ML+7fT5L+lKySlpsusCgBkI1QCAOtkshh44t4em9Gmj/gnhTXrtK4Ynyd9m0b1fbFNBGUvsAWi5CNUAgBOyWQz97azuemxKrya9blSQn/4+sad2ZRXrhg82Ka+EYA2gZSJUAwBMNaZztJ44r7dSckp03QcblM0yewBaIEI1AMB0p3SM0lPn99b+vDJd+94GZRWVm10SAJwUQjUAoFkY1j5Sz13YVxlF5br+g43MWANoUQjVAIBmY2BiuJ6Z2kcHC8p144cb6bEG0GIQqgEAzcqgxAg9dX5vpeWV6YYPNyq/lGANoPkjVAMAmp1h7SP1+Hm9lJJTolkfblIewRpAM0eoBgA0SyM7ROnxKb21O7tY173PqiAAmjePheo777xTI0eO1KRJk2o8vmLFCg0ePFjnnXeezjvvPD3//POeKgUA0EKN6hSlpy/oU70qSEYhq4IAaJ48FqqnTp2qOXPm1PmeIUOGaMGCBVqwYIFmzZrlqVIAAC3YsPaR+ueFfZVV7NDM9zboUEGZ2SUBwHE8FqqHDh2q8PCm3c4WANA6DUgM1wsX91NuSYWeXbbb7HIA4Dg2M2++fv16TZkyRXFxcfrrX/+qrl27nvAcq9VQRESQF6qr6d4W0+7dmjDO3sNYewfj3DRGRQTpDyPb6+XvdyvL4VKXuJDj3sNYew9j7R2Ms/c0dqxNC9W9e/fWkiVLFBwcrGXLlunGG2/U119/fcLznE638vJKvFDh8SIigky7d2vCOHsPY+0djHPTmdq7jd78OUXPLtqhB8/tcdxxxtp7GGvvYJy9p6axjo0Nrff5pq3+ERISouDgYEnSaaedpsrKSuXk5JhVDgCgBYgIsuvC/u309bYMpeaWNsk1s4sdemLJLhWVVzbJ9QC0TqaF6szMTLndbknSxo0b5XK5FBkZaVY5AIAW4rIhibJbLXpz5b4mud6rP+3Ve+sO6OttGU1yPQCtk8faP2bPnq2VK1cqNzdXY8aM0U033aTKyqpZgOnTp2vhwoWaO3eurFarAgIC9NRTT8kwDE+VAwDwETHBfjq/b7w+3HBQV49or3bhAQ2+1v78Ui3YfEiS9M32TE3t366pygTQyngsVD/11FN1Hp8xY4ZmzJjhqdsDAHzY5UOTNG/DQb21KlV3nHHih9xrM+fnfbIa0qS+8fpk0yFlFZUrJsS/CSsF0FqwoyIAoMVpE+qvyX3a6JPNh7R6X16DrrE3p0Rf/JKuC/u30+8GJ8gtafGOrCatE0DrQagGALRI143qoKSIQN360Wb9uPvkH3R/7ee98rNa9IdhSeoUHawuMcH6ZnumByoF0BoQqgEALVJUkJ9euaS/OkYF6fYFW7RkR/0D8a9Zxfp6W6YuGdhO0cF+kqQJ3WO14UABOzYCaBBCNQCgxYoIsuulS/qpV3yo7vxsqxasP1Cv8177ea8C7VZdPiSp+rUJ3WMlSYtoAQHQAIRqAECLFuJv0/MX9dWgpAj9Zf5GLTpBC8eurGIt3pGlaYPaKSLIXv16UmSgerYJYWk9AA1CqAYAtHiBdqueOr+3BiVH6p4vtun7X7Nrfe+bK/YpyG7V9MGJxx2b0D1WW9OLlJbXNBvLAGg9CNUAAJ8QaLfq1RmD1C02WHd8+otW7M097j17c0r0zfZMXTSgrSIC7ccdP9ICwgOLAE4WoRoA4DNCA+x67sK+SooM1O0fb9G6tPxjjr+xMlV2q0WXDTl+llqS4sMC1LdtmL78JUOuw7v+AkB9EKoBAD4lItCuFy7qp/gwf90yf5PWpuVJktLySvXVL+ma2q+tooL8aj3/ogFttSenRD80YJk+AK0XoRoA4HOig/300sX91CbUX7fO36y1aXn698pUWSyGLh9a8yz1EWd2j1XbMH+9uSJVbmarAdQToRoA4JNiQvz10iX9q4P1Z1vSNaVPvGJPsA25zWrRjCFJ2nSwQOv259f5XgA4glANAPBZMcF+1cFakv4wLOkEZ1SZ0qeNIgPtenNFqifLA+BDbGYXAACAJ8UE++mN3w1URlG52oYF1OucALtV0wcn6MUfUrQ9o0jd40I8XCWAlo6ZagCAzwvxt6lTdPBJnXNR/3YK9rPq3yuZrQZwYoRqAABqEBpg04X922nxjkyl5rIZDIC6EaoBAKjF9MEJshiG5m88aHYpAJo5QjUAALWICfbT8PaRWrIjk+X1ANSJUA0AQB3GdYvRgYJybcsoMrsUAM0YoRoAgDqc1jlaVouhRduzzC4FQDNGqAYAoA7hgXYNTYrQkp20gACoHaEaAIATGN8tRml5ZdqRWWx2KQCaKUI1AAAncHqXGFkNacmOTLNLAdBMEaoBADiBiCC7BiVFaNGOLFpAANSIUA0AQD2M7xajfbml+jWrxOxSADRDhGoAAOrh9C4xshjS4lpaQJwutwrKKrxcFYDmwmZ2AQAAtATRwX4amBiur7ZlKDLIT6UVTpVUOHUwv0y7s0uUklOi8kqXbji1g64cnmx2uQC8jFANAEA9nd0jTv/4ZqceX7JLkmRIig3xU6foYA3u31ZpeWV68YcUtQn117m92phbLACvIlQDAFBP5/WN14gOkfKzWRRkt8rfZpFhGNXHK5wu3Txvkx5cuENxIf4akhxhXrEAvIqeagAA6skwDMWHBSgqyE8BdusxgVqS7FaLHpvSW0mRgfrzJ1u0O5t1rYHWglANAEATCg2w6dmpfeRvs2r2R1vkqHSZXRIALyBUAwDQxNqGBej+s7trf36ZFmw+ZHY5ALyAUA0AgAcMax+hAQlhenPFPpUzWw34PEI1AAAeYBiGZp7SXhlFDi3YdNDscgB4GKEaAAAPGZIUoYEJYXpzZSqz1YCPI1QDAOAhVbPVHZRZ5NDHG5mtBnwZoRoAAA8akhyhQYnhenNlqsoqnGaXA8BDCNUAAHjYzFPaK6vYof+sTjO7lGpb0wu16UCB2WUAPoNQDQCAhw1OitCE7rF65ae9en/dAbPL0ZIdmbrqv+v1109/kdvtNrscwCewTTkAAF5w/znd5ah06fEluyRJlwxsZ0odn2w6pH98s0PBfjZlFjmUmlem5MhAU2oBfAkz1QAAeIHdatHDk3vqtM7RenzJLv13TZpSc0uVlleqgwVlXtl58Z3VaXrw6x0a1j5SL17cV5K0JjXP4/cFWgNmqgEA8JIjwfqOT7fq6W936+lvd1cfaxceoJcv6ae2YQEeuffqfXl6ZtlundEtRg+c20M2i6HoYD+tSc3TBf3aeuSeQGtCqAYAwIvsVosemdxTP+7OUUmFUy63W2UVLr34Q4quf3+jXrm0v9qE+jf5fdem5cliSH87q7vs1qpfVA9ODNfatHy53W4ZhtHk9wRaE0I1AABeZrdadHrXmGNe6xkfqhs/2Kjr39+gVy7tr9iQpg3WW9OL1CEqSEF+1urXBieF6+vtmfRVA02AnmoAAJqB3vGheu7CvsourtD1729UVrGjya7tdru1Nb1IPeNDj3l9UFKEJPqqgaZAqAYAoJno1y5Mz07to4yict3wwUbllDRNsM4scii72KGecSHHvN4+MlDRwX5am5bfJPcBWjNCNQAAzciAxHA9fUEfHcgv040fbFJeSUWjr7k1vVCSjpupNgyjqq86NY/1qoFGIlQDANDMDE6K0FPn91ZqXqlu/HCj8ksbF6x/SS+S1ZC6xQYfd2xQUrgyihxKyytr1D2A1o5QDQBAMzSsfaQeP6+X9uSU6KZ5m1RYVtnga209VKiO0cEKsFuPOzY4MUISfdVAYxGqAQBopkZ2iNJjU3ppZ2axbp6/SUXlJx+s3W63tqUXqWebkBqPt48KVFSQXWvoqwYahVANAEAzdmqnaD0yuae2phfplvmbVew4uWCdXliu3NKK4/qpjzAMQ4OTIuirBhqJUA0AQDN3WpcYPTSxh7YcLNBtH21RaYWz3uf+kl4kSepVy0y1VLVedUaRQ/vz6asGGopQDQBACzCuW6weOLeHNuzP163zN6vEUb9gvfVQoawWQ11i6wjVh/uqf9qT2xSlAq0SoRoAgBbizB5xeuCcqmA968P69VhvSy9S5+gg+dtq/yu/fVSgesWH6p01aap0upqyZKDVIFQDANCCnNUzTg9N7qWt6YW64YONyqtjub2qnRQLa+2nPsIwDM0c2V4H8sv02Zb0pi4ZaBVsZhcAAABOzriuMXr8vF766ye/aOZ7GzQsOUIOp0uOSpcSwgN15Yhk2SyGDhSUKb+sss5+6iNO6Rip3vGh+teKfZrYu43sVubdgJPB/2MAAGiBTu0Uracv6KPCskp9/ku6lu3K1prUfL36817d9dlWVThd2nqo6iHFHm3qnqmWqmarrzmlvQ4WlDNbDTQAM9UAALRQw9pH6svrRhzz2ty1+/XU0l91+4ItSooIlM1iqEvM8Tsp1uSUDpHq0zZU/1q+T5OYrQZOCv9vAQDAh0wflKC7J3TVz3ty9d66A+oaGyy/Oh5SPJphGJp5SnsdKizXp5sPebhSwLcQqgEA8DHn92urB87tIash9WsXdlLnjmgfqb5tQ/WvFamN2hodaG0I1QAA+KCze8bpw6uG6oZTO57UeYZh6JbTOim72KE/Ldii8kqW2APqw2Oh+s4779TIkSM1adKkOt+3ceNG9erVS1999ZWnSgEAoFVKjAhUkJ/1pM/rnxCu+8/prnVp+frbF9vkdLF9OXAiHgvVU6dO1Zw5c+p8j9Pp1BNPPKFRo0Z5qgwAANAAZ/aI0+yxnbV0Z5YeX7JLbjfBGqiLx0L10KFDFR4eXud73n77bZ111lmKjo72VBkAAKCBpg9K0O+HJmnehoN64YcUgjVQB9OW1EtPT9eiRYv01ltvadOmTWaVUW/+2z6UdecHCq90ml2Kz7ParIyzlzDW3sE4ew9j3fTukfT7yFJlrXcob4dd7SODZBiMtbcwzlJZz2kq73GR2WWckGmh+h//+Iduv/12WSwnN1lutRqKiAjyUFW1M4L8ZBiSzXbyvWk4OYyz9zDW3sE4ew9j7RmdYkMUYC9VWl6pKpzF6tomhLH2EsZZCgryU6AXsp/VamlUxjQtVG/evFmzZ8+WJOXm5mrZsmWy2Ww644wz6jzP6XQrL6/EGyUeK3mKIvpNM+ferUxERBDj7CWMtXcwzt7DWHuOv6RdWzN0/8LtapcdoLeuGqYg0Q7iaXymD/PCGNQ01rGxJ96N9AjTQvWSJUuq/3zHHXfo9NNPP2GgBgAA5jmrZ5ziQv01++PNuvyNVXr54r6KDfE3uyygWfDYg4qzZ8/WtGnTtGfPHo0ZM0YffPCB5s6dq7lz53rqlgAAwMMGJobrual9lV1Urhs+2KicEofZJQHNguFuYY/yVlQ4Tfs1CL+C8Q7G2XsYa+9gnL2HsfaeHXlluurfq5UcGaiXLu6n8EC72SX5JD7T3tPY9g92VAQAACdtWIcoPXleb6XklOimeZtUUFZhdkmAqQjVAACgQYZ3iNRjU3ppV1axrn9/o/JKCNZovQjVAACgwU7tFK0nz++tvbmluvb9DcoupscarROhGgAANMrIDlF65oI+OpBfpmvf26CMwnKP3q/E4dShgjKP3gM4WYRqAADQaEOSI/TPC/sqq9ihWR7usX5w4XbNeHutKpwuj90DOFmEagAA0CQGJIbryfN7Ky2vVH/6eIvKKpp+e+1fs4q1aEeW8ssqtWpfXpNfH2goQjUAAGgyg5Mi9MA5PbRhf4Hu+XybKl1Nu3LvGyv2KchuVZDdqqU7s5r02kBjEKoBAECTOqN7rP40trOW/ZqtRxftVFNtibE3p0TfbM/URQPaaVSnKC3blS1nE4d2oKEI1QAAoMldOihBVwxL0sebDunpb3c3SbB+Y2Wq7FaLLhuSoLFdY5RbWqENB/KboFqg8WxmFwAAAHzTDad2UFmlS3PX7pdb0uzTO8kwjAZdKy2vVF/9kq5LByUoKshPp3SMlJ/V0NKd2RqUGNGkdQMNwUw1AADwCMMwNPv0Tpo+KEHvrt2vpxoxY/3vlamyWgzNGJIoSQr2s2lEhygt3ZnVZO0lQGMwUw0AADzGMAzddnonGYb03zX75XS5dfu4zrKcxIz1oYIyfbYlXef3jVdsiH/162O7Ruu7X7O1Nb1IveJDPVE+UG+EagAA4FGGYejW0zrJYhj6z+o05ZdW6L6zu8vPVr9fmL+1Kk2S9IdhSce8PrpTtKyGtHRnFqEapqP9AwAAeJxhGLp5TEfdNLqjvt6eqds+2qxiR+UJz8sqKteCTQc1sXcbxYcFHHMsPNCuwUkRWkILCJoBZqoBAIBXGIah3w9LUmSQXf/4eoeue2+jJvVuU308PsxfYzpHH/Mw49ur0+R0uXXFb2apjxjbNUaPLt6lPTkl6hQd7PHvAagNoRoAAHjV5D7xigyy6+7PtumJpb8ec2zW6I7VbR45JQ7N23BQZ/eMU2JEYI3XOr1LtB5bvEtvr0rTvWd1a/DqIkBjEaoBAIDXndopWguvH6GySlfVC27piaW79Pz3exQVZNfkPvF6Z/V+OSpdumJ4cq3XiQnx1+VDk/TWqlTZrYbuOKPrST0ECTQVQjUAADBFgN2qALu1+uv7zu6u3JIK/ePrHbJaDH24/oDO6B6rDlFBdV5n1ugOslqkN1akqsLp1j1ndpPVQrCGd/GgIgAAaBbsVoseO6+XusaG6L4vt6ukwqmr6pilPsIwDF0/qoNmntJen21J131fbpOLBxfhZYRqAADQbAT72fTM1D7qGBWkc3vFqUts/R4+NAxD14xsr+tHddDCbZn6ZlumhysFjkX7BwAAaFaig/307hWDG3TuFcOT9PX2DM1ZvldndI+lDQRew0w1AABodiyG0aAHDi2GoT+OaK+UnFIt3uFbs9W5JQ5VOl1ml4FaEKoBAIBPGdctRp2igzTn531yunyjt7rS5dbFb6zWmytTzS4FtSBUAwAAn2IxDP1xZHvtySnxmdnqQwVlyi+r1I97cswuBbUgVAMAAJ8zvluMOkYHac5y35itTs0rlSRtPVRYr+3d4X08qAgAAHxOVW91su7+fJveXbtfXWKCVVheqaLySlW43HK53HK63YoP9dfYrjHNfifG1NyqUO10S+vTCjSqU5TJFeG3CNUAAMAnje8WqznL9+mZZbvrfN9VI5J1/agO3imqgfbllirAZpHT7daa1DxCdTNEqAYAAD7JajH03NQ+2plZrFB/m0ICbArxs8pmtchmGDIM6fnv9+hfy/fJ32rRVSNOvNGMWdLyypQcGahgP6tWp+aZXQ5qQKgGAAA+Kz4sQPFhAbUev3NCVzmcLr30Y4r8bBbNGJLoxerqLzWvVF1jg9UxKkj/WrFPReWVCvEnxjUnPKgIAABaLYth6G9nddcZ3WL07LLdem/tfrNLOk6ly639+WVKigjUkOQIudzS2rR8s8vCbxCqAQBAq2azGHrw3B46vUu0nlj6q95tZsH6YH6ZnC63kiID1adtmPyshtbQAtLsEKoBAECrZ7Na9NCknjq9S7SeXPqr/rsmzeySqu07vJxeckSg/G0W9WsXptX78swtCschVAMAAEiyWy16eFJPjesao6e/3a3/rG4ewfrIcnpJkYGSpMFJEdqZWaz80gozy8JvEKoBAAAOs1kt+sfEHtU91m81g23B0/JKFWS3KirILkkakhQht+irbm4I1QAAAEexWS16cGJPndk9Vv/8fo/eXLHP1Hr25ZYqKTKweoOa3m1D5W+z0FfdzLAWCwAAwG/YLIbuP7eHDEN64YcUudwybR3r1LxS9YgLrf7abrWof7swrUllpro5IVQDAADUwGYxdP85PWS1GHrpxxTtyy1RfFiArBZDdouhM7rHKjEi0KM1VDhdOphfpjO7xx7z+pDkCL34Q4oyi8oVG+Lv0RpQP4RqAACAWlgthu49q7sCbFYt2HxITpe7+tg7a/brnxf2UY82oXVcoXHSckvldP/vIcUjzugWq5d/TNF/VqfpttM7e+z+qD96qgEAAOpgtRi6c0JXLb9ttFb9aYxWzB6tD64cogCbRde9v1HrPfjA4N6cEklS0m9mxJMiA3V2zzjN23BQ2cUOj90f9UeoBgAAOAkWw1CHqCC9Nq2/ooP9NGveJv2ckuORe6VkF0s6fqZakq4anqwKp6vZLP3X2hGqAQAAGiA+LECvTeuv9pGBmv3RFv24u+mD9d7sEgX7WRUZaD/uWPuoIJ3ZI04frj+gnBJmq81GqAYAAGigqCA/vXxJf3WJCdZfP/1Fq/blNun1U7KLlXzUcnq/dfXwZJVXuvQOs9WmI1QDAAA0QmiATf+8qK8SIwI0+6Mt2rC/6XqsU7JLjuunPlqH6CCd2SNWH6w/oFxmq01FqAYAAGikiEC7Xrion+JC/XXL/M3acqiw0descLp0IK9UiTX0Ux/t6hHtVVbh0pvNYPfH1oxQDQAA0ASig/304sX9FB5o183zNmlHRlGjrrc/v0wut5R8grWwO0YHaUqfeP13zX59uP5Ao+6JhiNUAwAANJE2of566eJ+CrBZNOvDTdp9ePWOhkjNLZVU88ofv/XXM7ro1E5RenTxLi3YdLDB90TDEaoBAACaULvwAL10SX9ZLIZu/GBTdTg+Wal5VeedaKZaqtq6/NHJvTSiQ6T+8fVOffFLeoPu2dxsSy/ULfM3yeV2n/jNJiNUAwAANLHkyEC9eHFfVbrcuuGDjTqQX3ZS5ztdbv28J1fhgXaFB9ZvA2w/m0WPT+mlwckRuv+r7fpqa0ZDSm9W3l27X5sOFMrlIlQDAAC0Sp2ig/X8RX1VUuHUzPc2aF89Z6zdbrceXrRTy/fm6sbTO9e6nF5NAuxWPXV+bw1ICNd9X27TZ1sONbR801U4Xfru1xyN6Rwlm7X5R9bmXyEAAEAL1T0uRC9d3E+OSpdmvrdBv2bV3WPtdrv13Hd7tGDTIV01PElXntLhpO8ZaLfq2al9NCQpQg98tUMfb2yZPdarU/NUWF6psV1jzS6lXgjVAAAAHtQtLkSvXNpfhqRr39ugDfvzlZZXqu0ZRVqTmqc1qXnafLBAOzKK9NrPe/Wf1Wm6eEA7XTeqQ4PvGWC36snze1f1WH+zs0WuCrJkR5aC7FaN6BBpdin1Ur8mHQAAADRYx+ggvXppf93wwUb98d0Ndb73nJ5xun3cybV91CTAbtUT5/XWHZ/+okcX71Kly61pgxIadU1vcbrcWrYrW6M6Rcnf1jLmgAnVAAAAXpAUGag3fjdA3+7KVoDdomA/m0L8rTJkqLzSpXKnSzaLoVM6RsnSyEB9hJ/Noken9NJdn23Vk0t/VaXLrRlDEpvk2p60fn++cksrNK5rjNml1BuhGgAAwEtiQvx10YB2Xr2n3WrRw5N66m9fbNezy3arwunSlcOTvVrDyVqyI0v+NotO6Rhldin1RqgGAADwcTarRQ9O7CGb1dCLP6To213ZCg+wKdjPquhgP105PFnRwX5mlylJcrndWrorSyM7RCrIz2p2OfVGqAYAAGgFbBZD/3d2d7ULD9DGAwXKL6vUwYIyLfs1W2tS8/XSJf0UEWg3u0xtPliozCKHxnVrOa0fEqEaAACg1bBaDF3/m1VFVu7N1W0fbdZNH27Sixf3U2iAufFwyY4s2SyGRneKNrWOk9UyHqcEAACARwxrH6nHpvTWrqxi3TJ/k4odlabV4j7c+jG8faRC/FvW3C+hGgAAoJUb1SlKD03qqV8OFeq2+ZtVVG5OsE7LK9OB/DKN7txyHlA8glANAAAAje0aowcn9tTGg4Wa+d4GZRU7vF7DurR8SdKgxAiv37uxCNUAAACQJE3oHqunzu+t1NxS/XHueqXllXr1/mv35ysi0K4OUYFevW9T8Fizyp133qlvv/1W0dHR+uyzz447vmjRIj377LOyWCyyWq266667NGTIEE+VAwAAgHo4pWOUXrqkn26dv1lXz12vsV1jVFhWqcLySpU4nHK63XK63HK5pREdInXjqR0avfvjEevS8jUwMbzJrudNHpupnjp1qubMmVPr8ZEjR+qTTz7RggUL9NBDD+mee+7xVCkAAAA4CX3ahum1aQMUEWjX0p1Z2pZRpIKySvnZLArxtykyyK4gu0X/Xpmqp7/dLbfb3eh7Hiqo6qcemBjeBN+B93lspnro0KFKS0ur9XhwcHD1n0tLS1vkv0gAAAB8VcfoIL13Re1dBG63W08u/VVz1+5XiL9VM0/p0Kj7rd9fIEkalECoPmnffPONnnzySeXk5OiVV16p1zlWq6GIiCAPV1bbvS2m3bs1YZy9h7H2DsbZexhr72GsvaO5j/MD5/dVpWHotZ/3KSY8UFeM7KDySpfKKp0KtFsVYK//johbMosV4m/TkK6xslq8P9na2LE2NVRPmDBBEyZM0KpVq/Tss8/qzTffPOE5TqdbeXklni+uBhERQabduzVhnL2HsfYOxtl7GGvvYay9oyWM859P66T8onI9/NV2PfzV9urXQ/ytemRyLw1vH1mv66zYna1+7UJVWODdhyOPqGmsY2ND631+s1hVe+jQoUpNTVVOTo6iolreuoQAAACtldVi6IFze6hvuwMqKq+Uv80qf5tFH286qFvmb9a9Z3XTub3a1HmN3BKH9mSX6NyecV6quumZFqr37t2r5ORkGYahLVu2yOFwKDKyfv+SAQAAQPNht1r0u8GJx7w2sVcb/eWTLbrvy+1KLyzXFcOSan2G7kg/dUt9SFHyYKiePXu2Vq5cqdzcXI0ZM0Y33XSTKiurdueZPn26Fi5cqAULFshmsykgIEBPP/00DysCAAD4iNAAm56d2lcPLNyuF39IUW5JhW47vVONeW9dWr78bRb1iq9/u0Vz47FQ/dRTT9V5fObMmZo5c6anbg8AAACT+dkseuDcHooM8tPctfsVYLfohlM7Hve+dWn56ts2VHZry92XsFn0VAMAAMA3WQxDs0/vpPJKp95YkapAu1VXDk+uPl5UXqkdmUW6ekRyHVdp/gjVAAAA8CjDMHTHGV1VVuHSiz+kyN9m0SUDE2SzGNpwoEAud8vup5YI1QAAAPACi2Ho3rO7q7TCqae/3a1nl+1WdLCfpKoVRPq2DTO5wsYhVAMAAMArbBZDD03qqYXbMpSWV6bMonJlFDl0blzISW0U0xwRqgEAAOA1dqtFk3rHm11Gk2u5j1gCAAAAzQShGgAAAGgkQjUAAADQSIRqAAAAoJEI1QAAAEAjEaoBAACARiJUAwAAAI1EqAYAAAAaiVANAAAANBKhGgAAAGgkQjUAAADQSIRqAAAAoJEI1QAAAEAjEaoBAACARiJUAwAAAI1EqAYAAAAaiVANAAAANBKhGgAAAGgkw+12u80uAgAAAGjJmKkGAAAAGolQDQAAADQSoRoAAABoJEI1AAAA0EiEagAAAKCRCNUAAABAI9nMLqAl+O677/SPf/xDLpdLF198sWbOnGl2ST7j4MGD+stf/qLs7GwZhqFLLrlEf/jDH/TPf/5T77//vqKioiRJs2fP1mmnnWZytS3buHHjFBwcLIvFIqvVqvnz5ysvL0+33Xab9u/fr4SEBD3zzDMKDw83u9QWbffu3brtttuqv05NTdXNN9+swsJCPtNN4M4779S3336r6OhoffbZZ5JU6+fY7XbrH//4h5YtW6aAgAA98sgj6t27t8nfQctQ0zg/+uijWrp0qex2u5KTk/Xwww8rLCxMaWlpOvfcc9WxY0dJUv/+/fXAAw+YWX6LUtNY1/V34CuvvKIPP/xQFotF99xzj0aPHm1a7S1JTeN86623as+ePZKkwsJChYaGasGCBQ3/TLtRp8rKSvf48ePd+/btc5eXl7snT57s3rlzp9ll+Yz09HT35s2b3W63211YWOg+88wz3Tt37nQ/99xz7jlz5phcnW8ZO3asOzs7+5jXHn30Ufcrr7zidrvd7ldeecX92GOPmVGaz6qsrHSfcsop7rS0ND7TTWTlypXuzZs3uydOnFj9Wm2f42+//dZ99dVXu10ul3vdunXuiy66yJSaW6Kaxvn77793V1RUuN1ut/uxxx6rHufU1NRj3oeTU9NY1/bzYufOne7Jkye7y8vL3fv27XOPHz/eXVlZ6c1yW6yaxvloDz/8sPuf//yn2+1u+Gea9o8T2Lhxo9q3b6+kpCT5+flp4sSJWrx4sdll+Yy4uLjqmaOQkBB16tRJ6enpJlfVeixevFjnn3++JOn888/XokWLzC3Ix/z8889KSkpSQkKC2aX4jKFDhx7325TaPsdHXjcMQwMGDFBBQYEyMjK8XXKLVNM4n3rqqbLZqn7BPWDAAB06dMiM0nxOTWNdm8WLF2vixIny8/NTUlKS2rdvr40bN3q4Qt9Q1zi73W59+eWXmjRpUqPuQag+gfT0dMXHx1d/3aZNG0Kfh6SlpWnr1q3q37+/JOmdd97R5MmTdeeddyo/P9/k6nzD1VdfralTp+q9996TJGVnZysuLk6SFBsbq+zsbDPL8zmff/75MT+k+Ux7Rm2f49/+/I6Pj+fndxOZN2+exowZU/11Wlqazj//fM2YMUOrV682sTLfUdPPCzKJZ6xevVrR0dHq0KFD9WsN+UwTqtEsFBcX6+abb9Zdd92lkJAQTZ8+Xd98840WLFiguLg4PfLII2aX2OLNnTtXH330kV577TW98847WrVq1THHDcOQYRgmVed7HA6HlixZorPPPluS+Ex7CZ9jz3vppZdktVo1ZcoUSVW/cVy6dKk+/vhj3XHHHfrTn/6koqIik6ts2fh54V2fffbZMRMgDf1ME6pPoE2bNsf8iis9PV1t2rQxsSLfU1FRoZtvvlmTJ0/WmWeeKUmKiYmR1WqVxWLRxRdfrE2bNplcZct35HMbHR2tCRMmaOPGjYqOjq7+dXhGRkb1QzFovO+++069e/dWTEyMJD7TnlTb5/i3P78PHTrEz+9Gmj9/vr799ls98cQT1f948fPzU2RkpCSpT58+Sk5Orn74Cw1T288LMknTq6ys1DfffKNzzz23+rWGfqYJ1SfQt29fpaSkKDU1VQ6HQ59//rnGjRtndlk+w+126+6771anTp105ZVXVr9+dN/jokWL1LVrVzPK8xklJSXV/8ouKSnRjz/+qK5du2rcuHH6+OOPJUkff/yxxo8fb2KVvuXzzz/XxIkTq7/mM+05tX2Oj7zudru1fv16hYaGVreJ4OR99913mjNnjl566SUFBgZWv56TkyOn0ymparWblJQUJSUlmVWmT6jt58W4ceP0+eefy+FwVI91v379zCrTJ/z000/q1KnTMW01Df1MG2632+2xSn3EsmXL9NBDD8npdOrCCy/U9ddfb3ZJPmP16tW67LLL1K1bN1ksVf/Gmz17tj777DNt27ZNkpSQkKAHHniAvwwbITU1VTfeeKMkyel0atKkSbr++uuVm5urW2+9VQcPHlS7du30zDPPKCIiwtxifUBJSYnGjh2rRYsWKTQ0VJL05z//mc90E5g9e7ZWrlyp3NxcRUdH66abbtIZZ5xR4+fY7XbrgQce0Pfff6/AwEA99NBD6tu3r9nfQotQ0zi/+uqrcjgc1T8jjiwztnDhQj333HOy2WyyWCy66aabmHw6CTWN9cqVK2v9efHSSy9p3rx5slqtuuuuu1ias55qGueLL75Yd9xxh/r376/p06dXv7ehn2lCNQAAANBItH8AAAAAjUSoBgAAABqJUA0AAAA0EqEaAAAAaCRCNQAAANBIhGoAaIXS0tKO2UEMANA4hGoAAACgkWxmFwAAaJiPP/5Yr7/+ugzDUFJSkrZu3aqFCxfKbrerqKhIU6ZM0cKFC3XgwAHdd999ysnJkdVq1bPPPlu92ZJUtSHQE088oZUrV8rhcOiyyy7TtGnTTPzOAKDlIVQDQAu0c+dOvfTSS5o7d66ioqKUl5enRx99VMuWLdMZZ5yhzz//XGeeeabsdrtuv/12zZw5UxMmTFB5eblcLpeys7Orr/Xhhx8qNDRU8+bNk8Ph0LRp0zRq1Ci2mgaAk0D7BwC0QMuXL9fZZ5+tqKgoSVJERIQuuugizZs3T5I0f/58TZ06VUVFRUpPT9eECRMkSf7+/goMDDzmWj/++KMWLFig8847TxdffLHy8vK0d+9e735DANDCMVMNAD5i8ODBuv/++7VixQo5nU5169ZNRUVFJzzP7Xbrnnvu0ejRo71QJQD4JmaqAaAFGjFihL766ivl5uZKkvLy8iRJ559/vv70pz9p6tSpkqSQkBDFx8dr0aJFkiSHw6HS0tJjrnXqqadq7ty5qqiokCTt2bNHJSUlXvpOAMA3GG632212EQCAk/fRRx/p9ddfl8ViUa9evfTII48oMzNT48eP1w8//KCwsDBJUkpKiu69917l5ubKbrfr2WeflWEYuu666/TZZ5/J5XLpmWee0dKlS+V2uxUZGakXX3xRoaGhJn+HANByEKoBwId89dVXWrx4sR5//HGzSwGAVoWeagDwEQ8++KC+++47vfrqq2aXAgCtDjPVAAAAQCPxoCIAAADQSIRqAAAAoJEI1QAAAEAjEaoBAACARiJUAwAAAI1EqAYAAAAa6f8B2ts0llIZomoAAAAASUVORK5CYII=\n"
          },
          "metadata": {}
        }
      ]
    },
    {
      "cell_type": "code",
      "source": [
        "C = dataset['capacity'][0]\n",
        "soh = []\n",
        "for i in range(len(dataset)):\n",
        "  soh.append([dataset['capacity'][i] / C])\n",
        "soh = pd.DataFrame(data=soh, columns=['SoH'])\n",
        "\n",
        "attribs=['capacity', 'voltage_measured', 'current_measured',\n",
        "         'temperature_measured', 'current_load', 'voltage_load', 'time']\n",
        "train_dataset = dataset[attribs]\n",
        "sc = MinMaxScaler(feature_range=(0,1))\n",
        "train_dataset = sc.fit_transform(train_dataset)\n",
        "print(train_dataset.shape)\n",
        "\n",
        "print(soh.shape)"
      ],
      "metadata": {
        "colab": {
          "base_uri": "https://localhost:8080/"
        },
        "id": "ZqyvzaGTY27S",
        "outputId": "ffaf4759-b81e-47c1-b9b9-163871792e03"
      },
      "execution_count": null,
      "outputs": [
        {
          "output_type": "stream",
          "name": "stdout",
          "text": [
            "(50285, 7)\n",
            "(50285, 1)\n"
          ]
        }
      ]
    },
    {
      "cell_type": "code",
      "source": [
        "from sklearn.linear_model import LinearRegression\n",
        "from sklearn.model_selection import train_test_split, cross_val_score\n",
        "from sklearn.metrics import mean_squared_error\n",
        "from mlxtend.regressor import StackingRegressor\n"
      ],
      "metadata": {
        "id": "9He5R-3dZh2B"
      },
      "execution_count": null,
      "outputs": []
    },
    {
      "cell_type": "code",
      "source": [
        "// LINEAR REGRESSION"
      ],
      "metadata": {
        "id": "2MIIfj5Xj6y5"
      },
      "execution_count": null,
      "outputs": []
    },
    {
      "cell_type": "code",
      "source": [
        "x=train_dataset\n",
        "y=soh"
      ],
      "metadata": {
        "id": "KLvsprm_emnP"
      },
      "execution_count": null,
      "outputs": []
    },
    {
      "cell_type": "code",
      "source": [
        "from sklearn.model_selection import train_test_split\n",
        "x_train, x_test, y_train, y_test = train_test_split(x,y,test_size=1/3,random_state=0)\n",
        "pd.DataFrame(x_train)\n",
        "pd.DataFrame(y_train)"
      ],
      "metadata": {
        "colab": {
          "base_uri": "https://localhost:8080/",
          "height": 423
        },
        "id": "rkzZFADtdW0c",
        "outputId": "9785c965-f88e-4d46-dd68-15204e3dd62d"
      },
      "execution_count": null,
      "outputs": [
        {
          "output_type": "execute_result",
          "data": {
            "text/plain": [
              "            SoH\n",
              "43698  0.710034\n",
              "19761  0.873761\n",
              "5202   0.977098\n",
              "10036  0.952130\n",
              "31441  0.783146\n",
              "...         ...\n",
              "21243  0.854188\n",
              "45891  0.712999\n",
              "42613  0.721209\n",
              "43567  0.712728\n",
              "2732   0.970972\n",
              "\n",
              "[33523 rows x 1 columns]"
            ],
            "text/html": [
              "\n",
              "  <div id=\"df-378bbe25-af23-40c9-9294-1cc6f8ad4922\">\n",
              "    <div class=\"colab-df-container\">\n",
              "      <div>\n",
              "<style scoped>\n",
              "    .dataframe tbody tr th:only-of-type {\n",
              "        vertical-align: middle;\n",
              "    }\n",
              "\n",
              "    .dataframe tbody tr th {\n",
              "        vertical-align: top;\n",
              "    }\n",
              "\n",
              "    .dataframe thead th {\n",
              "        text-align: right;\n",
              "    }\n",
              "</style>\n",
              "<table border=\"1\" class=\"dataframe\">\n",
              "  <thead>\n",
              "    <tr style=\"text-align: right;\">\n",
              "      <th></th>\n",
              "      <th>SoH</th>\n",
              "    </tr>\n",
              "  </thead>\n",
              "  <tbody>\n",
              "    <tr>\n",
              "      <th>43698</th>\n",
              "      <td>0.710034</td>\n",
              "    </tr>\n",
              "    <tr>\n",
              "      <th>19761</th>\n",
              "      <td>0.873761</td>\n",
              "    </tr>\n",
              "    <tr>\n",
              "      <th>5202</th>\n",
              "      <td>0.977098</td>\n",
              "    </tr>\n",
              "    <tr>\n",
              "      <th>10036</th>\n",
              "      <td>0.952130</td>\n",
              "    </tr>\n",
              "    <tr>\n",
              "      <th>31441</th>\n",
              "      <td>0.783146</td>\n",
              "    </tr>\n",
              "    <tr>\n",
              "      <th>...</th>\n",
              "      <td>...</td>\n",
              "    </tr>\n",
              "    <tr>\n",
              "      <th>21243</th>\n",
              "      <td>0.854188</td>\n",
              "    </tr>\n",
              "    <tr>\n",
              "      <th>45891</th>\n",
              "      <td>0.712999</td>\n",
              "    </tr>\n",
              "    <tr>\n",
              "      <th>42613</th>\n",
              "      <td>0.721209</td>\n",
              "    </tr>\n",
              "    <tr>\n",
              "      <th>43567</th>\n",
              "      <td>0.712728</td>\n",
              "    </tr>\n",
              "    <tr>\n",
              "      <th>2732</th>\n",
              "      <td>0.970972</td>\n",
              "    </tr>\n",
              "  </tbody>\n",
              "</table>\n",
              "<p>33523 rows × 1 columns</p>\n",
              "</div>\n",
              "      <button class=\"colab-df-convert\" onclick=\"convertToInteractive('df-378bbe25-af23-40c9-9294-1cc6f8ad4922')\"\n",
              "              title=\"Convert this dataframe to an interactive table.\"\n",
              "              style=\"display:none;\">\n",
              "        \n",
              "  <svg xmlns=\"http://www.w3.org/2000/svg\" height=\"24px\"viewBox=\"0 0 24 24\"\n",
              "       width=\"24px\">\n",
              "    <path d=\"M0 0h24v24H0V0z\" fill=\"none\"/>\n",
              "    <path d=\"M18.56 5.44l.94 2.06.94-2.06 2.06-.94-2.06-.94-.94-2.06-.94 2.06-2.06.94zm-11 1L8.5 8.5l.94-2.06 2.06-.94-2.06-.94L8.5 2.5l-.94 2.06-2.06.94zm10 10l.94 2.06.94-2.06 2.06-.94-2.06-.94-.94-2.06-.94 2.06-2.06.94z\"/><path d=\"M17.41 7.96l-1.37-1.37c-.4-.4-.92-.59-1.43-.59-.52 0-1.04.2-1.43.59L10.3 9.45l-7.72 7.72c-.78.78-.78 2.05 0 2.83L4 21.41c.39.39.9.59 1.41.59.51 0 1.02-.2 1.41-.59l7.78-7.78 2.81-2.81c.8-.78.8-2.07 0-2.86zM5.41 20L4 18.59l7.72-7.72 1.47 1.35L5.41 20z\"/>\n",
              "  </svg>\n",
              "      </button>\n",
              "      \n",
              "  <style>\n",
              "    .colab-df-container {\n",
              "      display:flex;\n",
              "      flex-wrap:wrap;\n",
              "      gap: 12px;\n",
              "    }\n",
              "\n",
              "    .colab-df-convert {\n",
              "      background-color: #E8F0FE;\n",
              "      border: none;\n",
              "      border-radius: 50%;\n",
              "      cursor: pointer;\n",
              "      display: none;\n",
              "      fill: #1967D2;\n",
              "      height: 32px;\n",
              "      padding: 0 0 0 0;\n",
              "      width: 32px;\n",
              "    }\n",
              "\n",
              "    .colab-df-convert:hover {\n",
              "      background-color: #E2EBFA;\n",
              "      box-shadow: 0px 1px 2px rgba(60, 64, 67, 0.3), 0px 1px 3px 1px rgba(60, 64, 67, 0.15);\n",
              "      fill: #174EA6;\n",
              "    }\n",
              "\n",
              "    [theme=dark] .colab-df-convert {\n",
              "      background-color: #3B4455;\n",
              "      fill: #D2E3FC;\n",
              "    }\n",
              "\n",
              "    [theme=dark] .colab-df-convert:hover {\n",
              "      background-color: #434B5C;\n",
              "      box-shadow: 0px 1px 3px 1px rgba(0, 0, 0, 0.15);\n",
              "      filter: drop-shadow(0px 1px 2px rgba(0, 0, 0, 0.3));\n",
              "      fill: #FFFFFF;\n",
              "    }\n",
              "  </style>\n",
              "\n",
              "      <script>\n",
              "        const buttonEl =\n",
              "          document.querySelector('#df-378bbe25-af23-40c9-9294-1cc6f8ad4922 button.colab-df-convert');\n",
              "        buttonEl.style.display =\n",
              "          google.colab.kernel.accessAllowed ? 'block' : 'none';\n",
              "\n",
              "        async function convertToInteractive(key) {\n",
              "          const element = document.querySelector('#df-378bbe25-af23-40c9-9294-1cc6f8ad4922');\n",
              "          const dataTable =\n",
              "            await google.colab.kernel.invokeFunction('convertToInteractive',\n",
              "                                                     [key], {});\n",
              "          if (!dataTable) return;\n",
              "\n",
              "          const docLinkHtml = 'Like what you see? Visit the ' +\n",
              "            '<a target=\"_blank\" href=https://colab.research.google.com/notebooks/data_table.ipynb>data table notebook</a>'\n",
              "            + ' to learn more about interactive tables.';\n",
              "          element.innerHTML = '';\n",
              "          dataTable['output_type'] = 'display_data';\n",
              "          await google.colab.output.renderOutput(dataTable, element);\n",
              "          const docLink = document.createElement('div');\n",
              "          docLink.innerHTML = docLinkHtml;\n",
              "          element.appendChild(docLink);\n",
              "        }\n",
              "      </script>\n",
              "    </div>\n",
              "  </div>\n",
              "  "
            ]
          },
          "metadata": {},
          "execution_count": 9
        }
      ]
    },
    {
      "cell_type": "code",
      "source": [
        "from sklearn.linear_model import LinearRegression\n",
        "regressor=LinearRegression()\n",
        "regressor.fit(x,y)"
      ],
      "metadata": {
        "colab": {
          "base_uri": "https://localhost:8080/",
          "height": 74
        },
        "id": "IW67_uR7eP8s",
        "outputId": "b892cdd8-6434-4909-818f-855ff440bd7b"
      },
      "execution_count": null,
      "outputs": [
        {
          "output_type": "execute_result",
          "data": {
            "text/plain": [
              "LinearRegression()"
            ],
            "text/html": [
              "<style>#sk-container-id-1 {color: black;background-color: white;}#sk-container-id-1 pre{padding: 0;}#sk-container-id-1 div.sk-toggleable {background-color: white;}#sk-container-id-1 label.sk-toggleable__label {cursor: pointer;display: block;width: 100%;margin-bottom: 0;padding: 0.3em;box-sizing: border-box;text-align: center;}#sk-container-id-1 label.sk-toggleable__label-arrow:before {content: \"▸\";float: left;margin-right: 0.25em;color: #696969;}#sk-container-id-1 label.sk-toggleable__label-arrow:hover:before {color: black;}#sk-container-id-1 div.sk-estimator:hover label.sk-toggleable__label-arrow:before {color: black;}#sk-container-id-1 div.sk-toggleable__content {max-height: 0;max-width: 0;overflow: hidden;text-align: left;background-color: #f0f8ff;}#sk-container-id-1 div.sk-toggleable__content pre {margin: 0.2em;color: black;border-radius: 0.25em;background-color: #f0f8ff;}#sk-container-id-1 input.sk-toggleable__control:checked~div.sk-toggleable__content {max-height: 200px;max-width: 100%;overflow: auto;}#sk-container-id-1 input.sk-toggleable__control:checked~label.sk-toggleable__label-arrow:before {content: \"▾\";}#sk-container-id-1 div.sk-estimator input.sk-toggleable__control:checked~label.sk-toggleable__label {background-color: #d4ebff;}#sk-container-id-1 div.sk-label input.sk-toggleable__control:checked~label.sk-toggleable__label {background-color: #d4ebff;}#sk-container-id-1 input.sk-hidden--visually {border: 0;clip: rect(1px 1px 1px 1px);clip: rect(1px, 1px, 1px, 1px);height: 1px;margin: -1px;overflow: hidden;padding: 0;position: absolute;width: 1px;}#sk-container-id-1 div.sk-estimator {font-family: monospace;background-color: #f0f8ff;border: 1px dotted black;border-radius: 0.25em;box-sizing: border-box;margin-bottom: 0.5em;}#sk-container-id-1 div.sk-estimator:hover {background-color: #d4ebff;}#sk-container-id-1 div.sk-parallel-item::after {content: \"\";width: 100%;border-bottom: 1px solid gray;flex-grow: 1;}#sk-container-id-1 div.sk-label:hover label.sk-toggleable__label {background-color: #d4ebff;}#sk-container-id-1 div.sk-serial::before {content: \"\";position: absolute;border-left: 1px solid gray;box-sizing: border-box;top: 0;bottom: 0;left: 50%;z-index: 0;}#sk-container-id-1 div.sk-serial {display: flex;flex-direction: column;align-items: center;background-color: white;padding-right: 0.2em;padding-left: 0.2em;position: relative;}#sk-container-id-1 div.sk-item {position: relative;z-index: 1;}#sk-container-id-1 div.sk-parallel {display: flex;align-items: stretch;justify-content: center;background-color: white;position: relative;}#sk-container-id-1 div.sk-item::before, #sk-container-id-1 div.sk-parallel-item::before {content: \"\";position: absolute;border-left: 1px solid gray;box-sizing: border-box;top: 0;bottom: 0;left: 50%;z-index: -1;}#sk-container-id-1 div.sk-parallel-item {display: flex;flex-direction: column;z-index: 1;position: relative;background-color: white;}#sk-container-id-1 div.sk-parallel-item:first-child::after {align-self: flex-end;width: 50%;}#sk-container-id-1 div.sk-parallel-item:last-child::after {align-self: flex-start;width: 50%;}#sk-container-id-1 div.sk-parallel-item:only-child::after {width: 0;}#sk-container-id-1 div.sk-dashed-wrapped {border: 1px dashed gray;margin: 0 0.4em 0.5em 0.4em;box-sizing: border-box;padding-bottom: 0.4em;background-color: white;}#sk-container-id-1 div.sk-label label {font-family: monospace;font-weight: bold;display: inline-block;line-height: 1.2em;}#sk-container-id-1 div.sk-label-container {text-align: center;}#sk-container-id-1 div.sk-container {/* jupyter's `normalize.less` sets `[hidden] { display: none; }` but bootstrap.min.css set `[hidden] { display: none !important; }` so we also need the `!important` here to be able to override the default hidden behavior on the sphinx rendered scikit-learn.org. See: https://github.com/scikit-learn/scikit-learn/issues/21755 */display: inline-block !important;position: relative;}#sk-container-id-1 div.sk-text-repr-fallback {display: none;}</style><div id=\"sk-container-id-1\" class=\"sk-top-container\"><div class=\"sk-text-repr-fallback\"><pre>LinearRegression()</pre><b>In a Jupyter environment, please rerun this cell to show the HTML representation or trust the notebook. <br />On GitHub, the HTML representation is unable to render, please try loading this page with nbviewer.org.</b></div><div class=\"sk-container\" hidden><div class=\"sk-item\"><div class=\"sk-estimator sk-toggleable\"><input class=\"sk-toggleable__control sk-hidden--visually\" id=\"sk-estimator-id-1\" type=\"checkbox\" checked><label for=\"sk-estimator-id-1\" class=\"sk-toggleable__label sk-toggleable__label-arrow\">LinearRegression</label><div class=\"sk-toggleable__content\"><pre>LinearRegression()</pre></div></div></div></div></div>"
            ]
          },
          "metadata": {},
          "execution_count": 10
        }
      ]
    },
    {
      "cell_type": "code",
      "source": [
        "y_pred = regressor.predict(x_test)\n",
        "y_pred"
      ],
      "metadata": {
        "colab": {
          "base_uri": "https://localhost:8080/"
        },
        "id": "tVWbcAepeWaj",
        "outputId": "7fa6b027-843c-4e50-b562-54f894855ff2"
      },
      "execution_count": null,
      "outputs": [
        {
          "output_type": "execute_result",
          "data": {
            "text/plain": [
              "array([[0.96037443],\n",
              "       [0.77209898],\n",
              "       [0.94642052],\n",
              "       ...,\n",
              "       [0.76088789],\n",
              "       [0.87947541],\n",
              "       [0.89085121]])"
            ]
          },
          "metadata": {},
          "execution_count": 11
        }
      ]
    },
    {
      "cell_type": "code",
      "source": [
        "y_test"
      ],
      "metadata": {
        "colab": {
          "base_uri": "https://localhost:8080/",
          "height": 423
        },
        "id": "MhFC0mR9ft5m",
        "outputId": "4edc097d-b102-4d81-b436-6e490a2f047d"
      },
      "execution_count": null,
      "outputs": [
        {
          "output_type": "execute_result",
          "data": {
            "text/plain": [
              "            SoH\n",
              "8226   0.960374\n",
              "35470  0.772099\n",
              "12917  0.946421\n",
              "37555  0.749418\n",
              "48906  0.696726\n",
              "...         ...\n",
              "14240  0.929886\n",
              "33046  0.772128\n",
              "34841  0.760888\n",
              "19046  0.879475\n",
              "17814  0.890851\n",
              "\n",
              "[16762 rows x 1 columns]"
            ],
            "text/html": [
              "\n",
              "  <div id=\"df-caf3e769-7094-4bd3-bd1d-1aec67b05461\">\n",
              "    <div class=\"colab-df-container\">\n",
              "      <div>\n",
              "<style scoped>\n",
              "    .dataframe tbody tr th:only-of-type {\n",
              "        vertical-align: middle;\n",
              "    }\n",
              "\n",
              "    .dataframe tbody tr th {\n",
              "        vertical-align: top;\n",
              "    }\n",
              "\n",
              "    .dataframe thead th {\n",
              "        text-align: right;\n",
              "    }\n",
              "</style>\n",
              "<table border=\"1\" class=\"dataframe\">\n",
              "  <thead>\n",
              "    <tr style=\"text-align: right;\">\n",
              "      <th></th>\n",
              "      <th>SoH</th>\n",
              "    </tr>\n",
              "  </thead>\n",
              "  <tbody>\n",
              "    <tr>\n",
              "      <th>8226</th>\n",
              "      <td>0.960374</td>\n",
              "    </tr>\n",
              "    <tr>\n",
              "      <th>35470</th>\n",
              "      <td>0.772099</td>\n",
              "    </tr>\n",
              "    <tr>\n",
              "      <th>12917</th>\n",
              "      <td>0.946421</td>\n",
              "    </tr>\n",
              "    <tr>\n",
              "      <th>37555</th>\n",
              "      <td>0.749418</td>\n",
              "    </tr>\n",
              "    <tr>\n",
              "      <th>48906</th>\n",
              "      <td>0.696726</td>\n",
              "    </tr>\n",
              "    <tr>\n",
              "      <th>...</th>\n",
              "      <td>...</td>\n",
              "    </tr>\n",
              "    <tr>\n",
              "      <th>14240</th>\n",
              "      <td>0.929886</td>\n",
              "    </tr>\n",
              "    <tr>\n",
              "      <th>33046</th>\n",
              "      <td>0.772128</td>\n",
              "    </tr>\n",
              "    <tr>\n",
              "      <th>34841</th>\n",
              "      <td>0.760888</td>\n",
              "    </tr>\n",
              "    <tr>\n",
              "      <th>19046</th>\n",
              "      <td>0.879475</td>\n",
              "    </tr>\n",
              "    <tr>\n",
              "      <th>17814</th>\n",
              "      <td>0.890851</td>\n",
              "    </tr>\n",
              "  </tbody>\n",
              "</table>\n",
              "<p>16762 rows × 1 columns</p>\n",
              "</div>\n",
              "      <button class=\"colab-df-convert\" onclick=\"convertToInteractive('df-caf3e769-7094-4bd3-bd1d-1aec67b05461')\"\n",
              "              title=\"Convert this dataframe to an interactive table.\"\n",
              "              style=\"display:none;\">\n",
              "        \n",
              "  <svg xmlns=\"http://www.w3.org/2000/svg\" height=\"24px\"viewBox=\"0 0 24 24\"\n",
              "       width=\"24px\">\n",
              "    <path d=\"M0 0h24v24H0V0z\" fill=\"none\"/>\n",
              "    <path d=\"M18.56 5.44l.94 2.06.94-2.06 2.06-.94-2.06-.94-.94-2.06-.94 2.06-2.06.94zm-11 1L8.5 8.5l.94-2.06 2.06-.94-2.06-.94L8.5 2.5l-.94 2.06-2.06.94zm10 10l.94 2.06.94-2.06 2.06-.94-2.06-.94-.94-2.06-.94 2.06-2.06.94z\"/><path d=\"M17.41 7.96l-1.37-1.37c-.4-.4-.92-.59-1.43-.59-.52 0-1.04.2-1.43.59L10.3 9.45l-7.72 7.72c-.78.78-.78 2.05 0 2.83L4 21.41c.39.39.9.59 1.41.59.51 0 1.02-.2 1.41-.59l7.78-7.78 2.81-2.81c.8-.78.8-2.07 0-2.86zM5.41 20L4 18.59l7.72-7.72 1.47 1.35L5.41 20z\"/>\n",
              "  </svg>\n",
              "      </button>\n",
              "      \n",
              "  <style>\n",
              "    .colab-df-container {\n",
              "      display:flex;\n",
              "      flex-wrap:wrap;\n",
              "      gap: 12px;\n",
              "    }\n",
              "\n",
              "    .colab-df-convert {\n",
              "      background-color: #E8F0FE;\n",
              "      border: none;\n",
              "      border-radius: 50%;\n",
              "      cursor: pointer;\n",
              "      display: none;\n",
              "      fill: #1967D2;\n",
              "      height: 32px;\n",
              "      padding: 0 0 0 0;\n",
              "      width: 32px;\n",
              "    }\n",
              "\n",
              "    .colab-df-convert:hover {\n",
              "      background-color: #E2EBFA;\n",
              "      box-shadow: 0px 1px 2px rgba(60, 64, 67, 0.3), 0px 1px 3px 1px rgba(60, 64, 67, 0.15);\n",
              "      fill: #174EA6;\n",
              "    }\n",
              "\n",
              "    [theme=dark] .colab-df-convert {\n",
              "      background-color: #3B4455;\n",
              "      fill: #D2E3FC;\n",
              "    }\n",
              "\n",
              "    [theme=dark] .colab-df-convert:hover {\n",
              "      background-color: #434B5C;\n",
              "      box-shadow: 0px 1px 3px 1px rgba(0, 0, 0, 0.15);\n",
              "      filter: drop-shadow(0px 1px 2px rgba(0, 0, 0, 0.3));\n",
              "      fill: #FFFFFF;\n",
              "    }\n",
              "  </style>\n",
              "\n",
              "      <script>\n",
              "        const buttonEl =\n",
              "          document.querySelector('#df-caf3e769-7094-4bd3-bd1d-1aec67b05461 button.colab-df-convert');\n",
              "        buttonEl.style.display =\n",
              "          google.colab.kernel.accessAllowed ? 'block' : 'none';\n",
              "\n",
              "        async function convertToInteractive(key) {\n",
              "          const element = document.querySelector('#df-caf3e769-7094-4bd3-bd1d-1aec67b05461');\n",
              "          const dataTable =\n",
              "            await google.colab.kernel.invokeFunction('convertToInteractive',\n",
              "                                                     [key], {});\n",
              "          if (!dataTable) return;\n",
              "\n",
              "          const docLinkHtml = 'Like what you see? Visit the ' +\n",
              "            '<a target=\"_blank\" href=https://colab.research.google.com/notebooks/data_table.ipynb>data table notebook</a>'\n",
              "            + ' to learn more about interactive tables.';\n",
              "          element.innerHTML = '';\n",
              "          dataTable['output_type'] = 'display_data';\n",
              "          await google.colab.output.renderOutput(dataTable, element);\n",
              "          const docLink = document.createElement('div');\n",
              "          docLink.innerHTML = docLinkHtml;\n",
              "          element.appendChild(docLink);\n",
              "        }\n",
              "      </script>\n",
              "    </div>\n",
              "  </div>\n",
              "  "
            ]
          },
          "metadata": {},
          "execution_count": 12
        }
      ]
    },
    {
      "cell_type": "code",
      "source": [
        "from sklearn.metrics import r2_score\n",
        "MAE=metrics.mean_absolute_error(y_test,y_pred)\n",
        "MSE=metrics.mean_squared_error(y_test,y_pred)\n",
        "RMSE=np.sqrt(metrics.mean_squared_error(y_test,y_pred))\n",
        "R_squared=r2_score(y_test,y_pred)*100\n",
        "print(\"MAE:\",MAE)\n",
        "print(\"MSE:\",MSE)\n",
        "print(\"RMSE:\",RMSE)\n",
        "print(\"R squared value:\", R_squared)\n"
      ],
      "metadata": {
        "colab": {
          "base_uri": "https://localhost:8080/"
        },
        "id": "SkrwRxIuf9B0",
        "outputId": "12f0e732-d0da-4246-e68a-d3369a73fe66"
      },
      "execution_count": null,
      "outputs": [
        {
          "output_type": "stream",
          "name": "stdout",
          "text": [
            "MAE: 1.0463067128029827e-16\n",
            "MSE: 1.7269715687935753e-32\n",
            "RMSE: 1.314142902729218e-16\n",
            "R squared value: 100.0\n"
          ]
        }
      ]
    },
    {
      "cell_type": "code",
      "source": [
        "#SVR\n",
        "from sklearn.model_selection import train_test_split\n",
        "from sklearn.svm import SVR\n",
        "from sklearn import metrics\n",
        "import numpy as np\n",
        "\n",
        "x_train,x_test, y_train, y_test = train_test_split(x, y, test_size = 0.8, random_state = 0)\n",
        "\n",
        "clf = SVR(kernel='rbf', C=100, gamma=0.1, epsilon=.1)\n",
        "clf.fit(x_train,y_train)\n",
        "\n",
        "pred=clf.predict(x_test)\n",
        "\n",
        "MAE=metrics.mean_absolute_error(y_test,pred)\n",
        "MSE=metrics.mean_squared_error(y_test,pred)\n",
        "RMSE=np.sqrt(metrics.mean_squared_error(y_test,pred))\n",
        "R_squared=r2_score(y_test,pred)*100\n",
        "\n",
        "print(\"MAE:\",MAE)\n",
        "print(\"MSE:\",MSE)\n",
        "print(\"RMSE:\", RMSE)\n",
        "print(\"R squared value:\", R_squared)\n"
      ],
      "metadata": {
        "colab": {
          "base_uri": "https://localhost:8080/"
        },
        "id": "mezZ2jkuvpKC",
        "outputId": "c4a075ca-ec72-4b30-b810-e29886401ef6"
      },
      "execution_count": null,
      "outputs": [
        {
          "output_type": "stream",
          "name": "stdout",
          "text": [
            "MAE: 0.05604023735212213\n",
            "MSE: 0.003983307258631589\n",
            "RMSE: 0.06311344752611435\n",
            "R squared value: 58.688011350853266\n"
          ]
        },
        {
          "output_type": "stream",
          "name": "stderr",
          "text": [
            "/usr/local/lib/python3.9/dist-packages/sklearn/utils/validation.py:1143: DataConversionWarning: A column-vector y was passed when a 1d array was expected. Please change the shape of y to (n_samples, ), for example using ravel().\n",
            "  y = column_or_1d(y, warn=True)\n"
          ]
        }
      ]
    },
    {
      "cell_type": "code",
      "source": [
        "#KNN\n",
        "from sklearn.model_selection import train_test_split\n",
        "from sklearn.neighbors import KNeighborsRegressor\n",
        "from sklearn import metrics\n",
        "import numpy as np\n",
        "\n",
        "x_train,x_test, y_train, y_test = train_test_split(x, y, test_size = 0.8, random_state = 0)\n",
        "\n",
        "clf = KNeighborsRegressor(n_neighbors=5)\n",
        "clf.fit(x_train,y_train)\n",
        "\n",
        "pred=clf.predict(x_test)\n",
        "\n",
        "MAE=metrics.mean_absolute_error(y_test,pred)\n",
        "MSE=metrics.mean_squared_error(y_test,pred)\n",
        "RMSE=np.sqrt(metrics.mean_squared_error(y_test,pred))\n",
        "R_squared=r2_score(y_test,pred)*100\n",
        "\n",
        "print(\"MAE:\",MAE)\n",
        "print(\"MSE:\",MSE)\n",
        "print(\"RMSE:\", RMSE)\n",
        "print(\"R squared value:\", R_squared)\n"
      ],
      "metadata": {
        "colab": {
          "base_uri": "https://localhost:8080/"
        },
        "id": "LI3knqAXxoB2",
        "outputId": "aa2f3eb5-e635-4456-d7de-0d17b0c3a692"
      },
      "execution_count": null,
      "outputs": [
        {
          "output_type": "stream",
          "name": "stdout",
          "text": [
            "MAE: 0.0013231985968986358\n",
            "MSE: 3.857149171017677e-06\n",
            "RMSE: 0.001963962619557123\n",
            "R squared value: 99.95999643200362\n"
          ]
        }
      ]
    },
    
  ]
}
